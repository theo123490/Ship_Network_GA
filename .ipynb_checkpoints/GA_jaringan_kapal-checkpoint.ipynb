{
 "cells": [
  {
   "cell_type": "code",
   "execution_count": 0,
   "metadata": {
    "colab": {},
    "colab_type": "code",
    "id": "69oX7LxDBqdO"
   },
   "outputs": [],
   "source": [
    "import numpy as np\n",
    "import random\n",
    "import operator\n",
    "import pandas as pd\n",
    "import matplotlib.pyplot as plt"
   ]
  },
  {
   "cell_type": "code",
   "execution_count": 0,
   "metadata": {
    "colab": {},
    "colab_type": "code",
    "id": "_ITlZrm5eLzn"
   },
   "outputs": [],
   "source": [
    "ZTL = pd.read_csv('ZTL.csv', index_col=0)\n",
    "ZPL = pd.read_csv('ZPL.csv', index_col=0)\n",
    "ZPR = pd.read_csv('ZPR.csv', index_col=0)"
   ]
  },
  {
   "cell_type": "code",
   "execution_count": 0,
   "metadata": {
    "colab": {},
    "colab_type": "code",
    "id": "KYCBjjj6bGJP"
   },
   "outputs": [],
   "source": [
    "class Port:\n",
    "  def __init__(self, name,port_type):\n",
    "    self.name = name\n",
    "    self.port_type = port_type\n",
    "  def __repr__(self):\n",
    "    if self.port_type == 'U':\n",
    "      port_type_name = 'Utama'\n",
    "    elif self.port_type == 'P':\n",
    "      port_type_name = 'Pengumpul'\n",
    "    elif self.port_type == 'R':\n",
    "      port_type_name = 'Pengumpan'\n",
    "    else:\n",
    "      port_type_name = 'NOT DEFINED'\n",
    "\n",
    "    return port_type_name + \":\" + self.name\n",
    "    "
   ]
  },
  {
   "cell_type": "code",
   "execution_count": 0,
   "metadata": {
    "colab": {},
    "colab_type": "code",
    "id": "P4p3wr_Qe3fl"
   },
   "outputs": [],
   "source": [
    "class Ship:\n",
    "  def __init__(self, ship_type, route=[]):\n",
    "    self.ship_type = ship_type\n",
    "    self.route = route\n",
    "    \n",
    "  def Z(self,*ports):\n",
    "    if self.ship_type == 'TL':\n",
    "      df = ZTL\n",
    "      string = 'ZTL'\n",
    "      Z = float(df[(df[ports[0].port_type] == ports[0].name) & (df[ports[1].port_type] == ports[1].name)][string].values)\n",
    "\n",
    "    elif self.ship_type == 'PR':\n",
    "      df = ZPR\n",
    "      string = 'ZPR'\n",
    "      Z = float(df[(df[ports[0].port_type] == ports[0].name) & (df[ports[1].port_type] == ports[1].name)][string].values)\n",
    "\n",
    "    elif self.ship_type == 'PL':\n",
    "      Z = float(ZPL[(ZPL['U'] == ports[0].name) & (ZPL['U1'] == ports[1].name) & (ZPL['P'] == ports[2].name)]['ZPL'].values)\n",
    "    \n",
    "    else:\n",
    "      print('ship_type not recognize')\n",
    "\n",
    "    return Z\n",
    "      "
   ]
  },
  {
   "cell_type": "code",
   "execution_count": 0,
   "metadata": {
    "colab": {},
    "colab_type": "code",
    "id": "4BeoqCcJgq6i"
   },
   "outputs": [],
   "source": [
    "Tanjung_Perak = Port('Tanjung Perak', 'U')\n",
    "Tanjung_Priok = Port('Tanjung Priok', 'U')\n",
    "Saumlaki = Port('Saumlaki', 'P')\n",
    "Ambon = Port('Ambon','P')\n",
    "Namlea = Port('Namlea','R')\n",
    "TL = Ship('TL')\n",
    "PL = Ship('PL')\n",
    "PR = Ship('PR')"
   ]
  },
  {
   "cell_type": "code",
   "execution_count": 0,
   "metadata": {
    "colab": {},
    "colab_type": "code",
    "id": "KGUcNpK0mG4w"
   },
   "outputs": [],
   "source": [
    "route = Tanjung_Perak\n",
    "# route[-1]"
   ]
  },
  {
   "cell_type": "code",
   "execution_count": 0,
   "metadata": {
    "colab": {},
    "colab_type": "code",
    "id": "Pe897rSX1ILA"
   },
   "outputs": [],
   "source": [
    "U_ports = list(pd.read_excel('Data Prep.xlsx', index_col=False, sheet_name='U_port', header=None)[0].values)\n",
    "P_ports = list(pd.read_excel('Data Prep.xlsx', index_col=False, sheet_name='P_port', header=None)[0].values)\n",
    "R_ports = list(pd.read_excel('Data Prep.xlsx', index_col=False, sheet_name='R_port', header=None)[0].values)"
   ]
  },
  {
   "cell_type": "code",
   "execution_count": 0,
   "metadata": {
    "colab": {},
    "colab_type": "code",
    "id": "xowG36kBplR2"
   },
   "outputs": [],
   "source": [
    "port_df = pd.DataFrame(columns = ['Name','Port'])\n",
    "for i in U_ports:\n",
    "  port_df = port_df.append(pd.DataFrame({'Name' : [i],\n",
    "                               'Port' : ['U']}))\n",
    "for i in P_ports:\n",
    "  port_df = port_df.append(pd.DataFrame({'Name' : [i],\n",
    "                               'Port' : ['P']}))\n",
    "for i in R_ports:\n",
    "  port_df = port_df.append(pd.DataFrame({'Name' : [i],\n",
    "                               'Port' : ['R']}))\n",
    "  \n",
    "port_df = port_df.reset_index(drop = True)"
   ]
  },
  {
   "cell_type": "code",
   "execution_count": 0,
   "metadata": {
    "colab": {},
    "colab_type": "code",
    "id": "oAeh5geNplP2"
   },
   "outputs": [],
   "source": [
    "ZTL_port = pd.read_excel('/gdrive/My Drive/GA_jaringan/Data Prep.xlsx', index_col=False, sheet_name='ZTL_port')\n",
    "ZTL_U = list(ZTL_port['U'].dropna().values)\n",
    "ZTL_P = list(ZTL_port['P'].dropna().values)\n",
    "\n",
    "ZPL_port = pd.read_excel('/gdrive/My Drive/GA_jaringan/Data Prep.xlsx', index_col=False, sheet_name='ZPL_port')\n",
    "ZPL_U = list(ZPL_port['U'].dropna().values)\n",
    "ZPL_U1 = list(ZPL_port['U1'].dropna().values)\n",
    "ZPL_P = list(ZPL_port['P'].dropna().values)\n",
    "\n",
    "ZPR_port_Ambon = pd.read_excel('/gdrive/My Drive/GA_jaringan/Data Prep.xlsx', index_col=False, sheet_name='ZPR_port_Ambon')\n",
    "ZPR_Ambon_P = ['Ambon']\n",
    "ZPR_Ambon_R = ZPR_port_Ambon['R']\n",
    "\n",
    "ZPR_port_Tual = pd.read_excel('/gdrive/My Drive/GA_jaringan/Data Prep.xlsx', index_col=False, sheet_name='ZPR_port_Tual')\n",
    "ZPR_Tual_P = ['Tual']\n",
    "ZPR_Tual_R = ZPR_port_Tual['R']\n",
    "\n",
    "ZPR_port_Saumlaki = pd.read_excel('/gdrive/My Drive/GA_jaringan/Data Prep.xlsx', index_col=False, sheet_name='ZPR_port_Saumlaki')\n",
    "ZPR_Tual_P = ['Saumlaki']\n",
    "ZPR_Tual_R = ZPR_port_Saumlaki['R']"
   ]
  },
  {
   "cell_type": "code",
   "execution_count": 0,
   "metadata": {
    "colab": {},
    "colab_type": "code",
    "id": "BUKGJwrnNwKJ"
   },
   "outputs": [],
   "source": [
    "def quick_port(port_name):\n",
    "  port_name = str(port_df[port_df['Name'] == port_name]['Name'].values[0])\n",
    "  port_type = str(port_df[port_df['Name'] == port_name]['Port'].values[0])\n",
    "  return Port(port_name,port_type)\n"
   ]
  },
  {
   "cell_type": "code",
   "execution_count": 0,
   "metadata": {
    "colab": {},
    "colab_type": "code",
    "id": "YjHeufxuLTXg"
   },
   "outputs": [],
   "source": [
    "def random_port(Z):\n",
    "  port = Z[random.randrange(len(Z))]\n",
    "  new_random_port = quick_port(port)\n",
    "  return new_random_port\n",
    "  "
   ]
  },
  {
   "cell_type": "code",
   "execution_count": 0,
   "metadata": {
    "colab": {},
    "colab_type": "code",
    "id": "-X6AHmYMNxec"
   },
   "outputs": [],
   "source": [
    "def TL_route(n,starting_route):\n",
    "  if n%2 == 0:\n",
    "    raise ValueError(\"n must be odd number\")\n",
    "    \n",
    "  route = []\n",
    "  route.append(starting_route[0])\n",
    "\n",
    "    \n",
    "  i=0\n",
    "  \n",
    "  while i < n:\n",
    "    route.append(random_port(ZTL_P))\n",
    "    i+=1\n",
    "    if i>=n:\n",
    "      break\n",
    "    route.append(random_port(ZTL_U))\n",
    "    i+=1\n",
    "    if i>=n:\n",
    "      break\n",
    "\n",
    "  return route"
   ]
  },
  {
   "cell_type": "code",
   "execution_count": 0,
   "metadata": {
    "colab": {},
    "colab_type": "code",
    "id": "jXsLxKFwelCI"
   },
   "outputs": [],
   "source": [
    "def PR_route(n,starting_route):\n",
    "  if n%2 == 0:\n",
    "    raise ValueError(\"n must be odd number\")\n",
    "\n",
    "  if starting_route.name is 'Ambon':\n",
    "    df = ZPR_port_Ambon\n",
    "  elif starting_route.name is 'Tual':\n",
    "    df = ZPR_port_Tual\n",
    "  elif starting_route.name is 'Saumlaki':\n",
    "    df = ZPR_port_Saumlaki\n",
    "  else:\n",
    "    raise ValueError('starting route not available')\n",
    "\n",
    "  route = []\n",
    "  route.append(starting_route[0])\n",
    "\n",
    "  i=0\n",
    "  r_list = list(df['R'].values)\n",
    "\n",
    "  while i < n:\n",
    "    if route[-1]:\n",
    "      route.append(random_port(r_list))\n",
    "      i+=1\n",
    "    if i>=n:\n",
    "      break\n",
    "\n",
    "      route.append(random_port(ZTL_U))\n",
    "    i+=1\n",
    "    if i>=n:\n",
    "      break\n",
    "\n",
    "  return route"
   ]
  },
  {
   "cell_type": "code",
   "execution_count": 0,
   "metadata": {
    "colab": {},
    "colab_type": "code",
    "id": "f-9fcbPXT6EI"
   },
   "outputs": [],
   "source": [
    "def rand_route(ship,n,starting):\n",
    "  if type(starting) is str:\n",
    "    starting_port = quick_port(starting)\n",
    "    route = [starting_port]\n",
    "  elif type(starting) is Port:\n",
    "    route = [starting]\n",
    "  else:\n",
    "    raise TypeError (\"starting must be a string or Port_object\")\n",
    "  \n",
    "  if ship.ship_type is 'TL':\n",
    "    route = TL_route(n,route)\n",
    "  else:\n",
    "    print('BELOM DI BUAT')\n",
    "  \n",
    "  return route\n",
    "  "
   ]
  },
  {
   "cell_type": "code",
   "execution_count": 0,
   "metadata": {
    "colab": {},
    "colab_type": "code",
    "id": "5BhnMj3uW4aO"
   },
   "outputs": [],
   "source": [
    "def total_ZTL(ship, route):\n",
    "  Z=0\n",
    "  for i in range(len(route)-1):\n",
    "    if route[i].port_type == 'U':    \n",
    "      port_A = route[i]\n",
    "      port_B = route[i+1]\n",
    "    elif route[i].port_type == 'P':\n",
    "      port_A = route[i+1]\n",
    "      port_B = route[i]\n",
    "    else:\n",
    "      print('route type does not match')\n",
    "\n",
    "    Z += ship.Z(port_A, port_B)\n",
    "  return Z "
   ]
  },
  {
   "cell_type": "code",
   "execution_count": 0,
   "metadata": {
    "colab": {},
    "colab_type": "code",
    "id": "O_7Ejg_P0ZZW"
   },
   "outputs": [],
   "source": [
    "def Total_Profit(ship,route):\n",
    "  if ship.ship_type == 'TL':\n",
    "    Z = total_ZTL(ship,route)\n",
    "  else:\n",
    "    Z = 0\n",
    "    print('BELOM DI BUAT')\n",
    "  return Z"
   ]
  },
  {
   "cell_type": "code",
   "execution_count": 0,
   "metadata": {
    "colab": {},
    "colab_type": "code",
    "id": "vWZz0tPYtg9y"
   },
   "outputs": [],
   "source": [
    "def initialPopulation_TL(ship, pop_size,starting, max_port = 21):\n",
    "  if max_port%2 == 0:\n",
    "    raise ValueError(\"max_port must be odd number\")\n",
    "  population = []\n",
    "  i=0\n",
    "  while i<max_port:\n",
    "    port_size = random.randrange(3, max_port)\n",
    "    if port_size%2 == 1:\n",
    "      i+=1\n",
    "      new_route = rand_route(ship, port_size,starting)\n",
    "      population.append(new_route)\n",
    "  return population"
   ]
  },
  {
   "cell_type": "code",
   "execution_count": 0,
   "metadata": {
    "colab": {},
    "colab_type": "code",
    "id": "3PVlBj4GyIn3"
   },
   "outputs": [],
   "source": [
    "def rank_route(ship,population):\n",
    "  fitnessResults = {}\n",
    "  for i in range(0,len(population)):\n",
    "    fitnessResults[i] = Total_Profit(ship,population[i])\n",
    "  return sorted(fitnessResults.items(), key = operator.itemgetter(1), reverse = True)"
   ]
  },
  {
   "cell_type": "code",
   "execution_count": 0,
   "metadata": {
    "colab": {},
    "colab_type": "code",
    "id": "oR1Vkr7A1q0F"
   },
   "outputs": [],
   "source": [
    "def selection(ranked_population, n_elite):\n",
    "    selectionResults = []\n",
    "    df = pd.DataFrame(np.array(ranked_population), columns=[\"Index\",\"Fitness\"])\n",
    "    df['cum_sum'] = df.Fitness.cumsum()\n",
    "    df['cum_perc'] = 100*df.cum_sum/df.Fitness.sum()\n",
    "    \n",
    "    for i in range(0, n_elite):\n",
    "        selectionResults.append(ranked_population[i][0])\n",
    "    for i in range(0, len(ranked_population) - n_elite):\n",
    "        pick = 100*random.random()\n",
    "        for i in range(0, len(ranked_population)):\n",
    "            if pick <= df.iat[i,3]:\n",
    "                selectionResults.append(ranked_population[i][0])\n",
    "                break\n",
    "    return selectionResults"
   ]
  },
  {
   "cell_type": "code",
   "execution_count": 0,
   "metadata": {
    "colab": {},
    "colab_type": "code",
    "id": "lixBHzAt6cWt"
   },
   "outputs": [],
   "source": [
    "def matingPool(population, selectionResults):\n",
    "    matingpool = []\n",
    "    for i in range(0, len(selectionResults)):\n",
    "        index = selectionResults[i]\n",
    "        matingpool.append(population[index])\n",
    "    return matingpool"
   ]
  },
  {
   "cell_type": "code",
   "execution_count": 0,
   "metadata": {
    "colab": {},
    "colab_type": "code",
    "id": "VDtT494vBPSk"
   },
   "outputs": [],
   "source": [
    "def breed(parent1, parent2):\n",
    "    child = parent1.copy()\n",
    "\n",
    "    \n",
    "    shortest_gene = min(len(parent1),len(parent2))\n",
    "    \n",
    "    geneA = int(random.random() * shortest_gene)\n",
    "    geneB = int(random.random() * shortest_gene)\n",
    "    \n",
    "    startGene = min(geneA, geneB)\n",
    "    endGene = max(geneA, geneB)\n",
    "    \n",
    "    gene_swap_P2 = parent2[startGene:endGene]\n",
    "    \n",
    "    child[startGene:endGene] = gene_swap_P2\n",
    "\n",
    "    return child"
   ]
  },
  {
   "cell_type": "code",
   "execution_count": 0,
   "metadata": {
    "colab": {},
    "colab_type": "code",
    "id": "hwoJlKYPBo9r"
   },
   "outputs": [],
   "source": [
    "def breedPopulation(ship,matingpool, eliteSize):\n",
    "    children = []\n",
    "    length = len(matingpool) - eliteSize\n",
    "    pool = random.sample(matingpool, len(matingpool))\n",
    "\n",
    "    for i in range(0,eliteSize):\n",
    "      children.append(matingpool[i])\n",
    "    \n",
    "    for i in range(0, length-(int(0.3*length))):\n",
    "      child = breed(pool[i], pool[len(matingpool)-i-1])\n",
    "      children.append(child)\n",
    "        \n",
    "    for i in range(length-(int(0.03*length)),length):\n",
    "      children.append(rand_route(ship,len(children[0]),children[0][0]))\n",
    "    return children"
   ]
  },
  {
   "cell_type": "code",
   "execution_count": 0,
   "metadata": {
    "colab": {},
    "colab_type": "code",
    "id": "gPmvaM8aCBjJ"
   },
   "outputs": [],
   "source": [
    "def mutate(ship, individual, mutationRate):\n",
    "    for mutated in range(len(individual)):\n",
    "        if(random.random() < mutationRate):\n",
    "          if ship.ship_type == 'TL':\n",
    "            Z_df = ZTL_port\n",
    "            port_type = individual[mutated].port_type\n",
    "            port_list = Z_df[port_type].dropna().values\n",
    "            new_port_name = random.choice(port_list)\n",
    "            \n",
    "            port_name = str(port_df[port_df['Name'] == new_port_name]['Name'].values[0])\n",
    "            port_type = str(port_df[port_df['Name'] == new_port_name]['Port'].values[0])\n",
    "            new_port = Port(port_name,port_type)\n",
    "            individual[mutated] = new_port\n",
    "          \n",
    "          \n",
    "          else:\n",
    "            print('SHIP TYPE BELOM BUAT')\n",
    "            \n",
    "    return individual"
   ]
  },
  {
   "cell_type": "code",
   "execution_count": 0,
   "metadata": {
    "colab": {},
    "colab_type": "code",
    "id": "8tUfTKwUIk5v"
   },
   "outputs": [],
   "source": [
    "def mutatePopulation(ship,population, mutationRate):\n",
    "    mutatedPop = []\n",
    "    \n",
    "    for ind in range(0, len(population)):\n",
    "        mutatedInd = mutate(ship,population[ind], mutationRate)\n",
    "        mutatedPop.append(mutatedInd)\n",
    "    return mutatedPop"
   ]
  },
  {
   "cell_type": "code",
   "execution_count": 0,
   "metadata": {
    "colab": {},
    "colab_type": "code",
    "id": "EvvT91ofIrrx"
   },
   "outputs": [],
   "source": [
    "def nextGeneration(ship,currentGen, eliteSize, mutationRate):\n",
    "    popRanked = rank_route(ship,currentGen)\n",
    "    selectionResults = selection(popRanked, eliteSize)\n",
    "    matingpool = matingPool(currentGen, selectionResults)\n",
    "    children = breedPopulation(ship,matingpool, eliteSize)\n",
    "    nextGeneration = mutatePopulation(ship,children, mutationRate)\n",
    "    return nextGeneration"
   ]
  },
  {
   "cell_type": "code",
   "execution_count": 0,
   "metadata": {
    "colab": {},
    "colab_type": "code",
    "id": "W-dOAbPhI1eV"
   },
   "outputs": [],
   "source": [
    "def geneticAlgorithmPlot_TL(ship, starting, popSize, eliteSize, mutationRate, generations):\n",
    "    pop = initialPopulation_TL(ship, popSize,starting)\n",
    "    print(str(pop))\n",
    "    print(\"Initial Profit: \" + str(rank_route(ship,pop)[0][1]))\n",
    "\n",
    "    progress = []\n",
    "    best_progress = []\n",
    "    best_route_overall = pop[rank_route(ship,pop)[0][0]]\n",
    "    best_gene_Z = rank_route(ship,pop)[0][1]\n",
    "    \n",
    "    progress.append(rank_route(ship,pop)[0][1])\n",
    "    best_progress.append(rank_route(ship,pop)[0][1])\n",
    "    \n",
    "    for i in range(0, generations):\n",
    "        pop = nextGeneration(ship,pop, eliteSize, mutationRate)\n",
    "        if (rank_route(ship,pop)[0][1]) > best_gene_Z : \n",
    "          best_gene_Z = (rank_route(ship,pop)[0][1])\n",
    "          best_route_overall = pop[rank_route(ship,pop)[0][0]]\n",
    "          \n",
    "        \n",
    "        best_progress.append(best_gene_Z)\n",
    "        progress.append(rank_route(ship,pop)[0][1])\n",
    "\n",
    "        \n",
    "        \n",
    "        print('iteration: ' + str(i+1) + ' current best Profit: ' + str(rank_route(ship,pop)[0][1]) + ' overall best Profit: ' + str(best_gene_Z)) \n",
    "        \n",
    "    print(\"Final Profit: \" + str(rank_route(ship,pop)[0][1]))\n",
    "    \n",
    "    \n",
    "    bestRouteIndex = rank_route(ship,pop)[0][0]\n",
    "    bestRoute = pop[bestRouteIndex]\n",
    "    \n",
    "    \n",
    "    plt.plot(best_progress)\n",
    "    plt.plot(progress)\n",
    "    plt.ylabel('Profit')\n",
    "    plt.xlabel('Generation')\n",
    "    plt.show()\n",
    "    \n",
    "    return bestRoute,best_route_overall"
   ]
  },
  {
   "cell_type": "code",
   "execution_count": 39,
   "metadata": {
    "colab": {
     "base_uri": "https://localhost:8080/",
     "height": 392
    },
    "colab_type": "code",
    "id": "ZXHyQ_8aLZOy",
    "outputId": "d9a66b7a-1485-4602-d2fd-528f29922f9f"
   },
   "outputs": [
    {
     "name": "stdout",
     "output_type": "stream",
     "text": [
      "[[Utama:Tanjung Perak, Pengumpul:Dobo, Utama:Makassar, Pengumpul:Namrole, Utama:Makassar, Pengumpul:Namlea, Utama:Makassar, Pengumpul:Dobo], [Utama:Tanjung Perak, Pengumpul:Namlea, Utama:Tanjung Perak, Pengumpul:Kisar, Utama:Makassar, Pengumpul:Namrole, Utama:Makassar, Pengumpul:Kisar, Utama:Tanjung Perak, Pengumpul:Namrole, Utama:Tanjung Perak, Pengumpul:Saumlaki], [Utama:Tanjung Perak, Pengumpul:Namlea, Utama:Makassar, Pengumpul:Saumlaki, Utama:Tanjung Perak, Pengumpul:Saumlaki, Utama:Tanjung Perak, Pengumpul:Kisar, Utama:Tanjung Perak, Pengumpul:Saumlaki, Utama:Makassar, Pengumpul:Namrole, Utama:Makassar, Pengumpul:Namrole, Utama:Makassar, Pengumpul:Dobo], [Utama:Tanjung Perak, Pengumpul:Dobo, Utama:Makassar, Pengumpul:Kisar, Utama:Tanjung Perak, Pengumpul:Namrole, Utama:Makassar, Pengumpul:Moa, Utama:Tanjung Perak, Pengumpul:Moa], [Utama:Tanjung Perak, Pengumpul:Moa, Utama:Tanjung Perak, Pengumpul:Namrole, Utama:Makassar, Pengumpul:Kisar, Utama:Makassar, Pengumpul:Namrole, Utama:Makassar, Pengumpul:Namrole, Utama:Makassar, Pengumpul:Namlea, Utama:Makassar, Pengumpul:Namrole], [Utama:Tanjung Perak, Pengumpul:Moa, Utama:Makassar, Pengumpul:Moa, Utama:Makassar, Pengumpul:Dobo, Utama:Tanjung Perak, Pengumpul:Moa], [Utama:Tanjung Perak, Pengumpul:Moa, Utama:Tanjung Perak, Pengumpul:Dobo, Utama:Makassar, Pengumpul:Dobo, Utama:Tanjung Perak, Pengumpul:Moa, Utama:Tanjung Perak, Pengumpul:Namrole], [Utama:Tanjung Perak, Pengumpul:Namrole, Utama:Tanjung Perak, Pengumpul:Moa, Utama:Tanjung Perak, Pengumpul:Moa, Utama:Makassar, Pengumpul:Kisar], [Utama:Tanjung Perak, Pengumpul:Kisar, Utama:Tanjung Perak, Pengumpul:Saumlaki], [Utama:Tanjung Perak, Pengumpul:Moa, Utama:Tanjung Perak, Pengumpul:Dobo, Utama:Tanjung Perak, Pengumpul:Saumlaki, Utama:Tanjung Perak, Pengumpul:Namrole, Utama:Tanjung Perak, Pengumpul:Namrole, Utama:Tanjung Perak, Pengumpul:Moa], [Utama:Tanjung Perak, Pengumpul:Namrole, Utama:Makassar, Pengumpul:Namrole, Utama:Makassar, Pengumpul:Saumlaki, Utama:Tanjung Perak, Pengumpul:Namlea, Utama:Makassar, Pengumpul:Moa, Utama:Tanjung Perak, Pengumpul:Namrole, Utama:Tanjung Perak, Pengumpul:Kisar, Utama:Makassar, Pengumpul:Moa, Utama:Tanjung Perak, Pengumpul:Namlea, Utama:Tanjung Perak, Pengumpul:Namlea], [Utama:Tanjung Perak, Pengumpul:Namrole, Utama:Tanjung Perak, Pengumpul:Kisar], [Utama:Tanjung Perak, Pengumpul:Kisar, Utama:Makassar, Pengumpul:Dobo, Utama:Tanjung Perak, Pengumpul:Namrole, Utama:Tanjung Perak, Pengumpul:Kisar, Utama:Tanjung Perak, Pengumpul:Moa, Utama:Makassar, Pengumpul:Dobo, Utama:Tanjung Perak, Pengumpul:Dobo, Utama:Makassar, Pengumpul:Moa, Utama:Tanjung Perak, Pengumpul:Namrole], [Utama:Tanjung Perak, Pengumpul:Namrole, Utama:Makassar, Pengumpul:Moa, Utama:Makassar, Pengumpul:Namlea, Utama:Tanjung Perak, Pengumpul:Moa, Utama:Makassar, Pengumpul:Namrole, Utama:Makassar, Pengumpul:Saumlaki, Utama:Tanjung Perak, Pengumpul:Kisar, Utama:Tanjung Perak, Pengumpul:Kisar], [Utama:Tanjung Perak, Pengumpul:Moa, Utama:Makassar, Pengumpul:Moa, Utama:Tanjung Perak, Pengumpul:Dobo, Utama:Tanjung Perak, Pengumpul:Kisar, Utama:Makassar, Pengumpul:Moa, Utama:Tanjung Perak, Pengumpul:Moa, Utama:Tanjung Perak, Pengumpul:Moa, Utama:Tanjung Perak, Pengumpul:Dobo, Utama:Makassar, Pengumpul:Dobo], [Utama:Tanjung Perak, Pengumpul:Moa, Utama:Makassar, Pengumpul:Kisar, Utama:Makassar, Pengumpul:Saumlaki, Utama:Tanjung Perak, Pengumpul:Namlea], [Utama:Tanjung Perak, Pengumpul:Kisar, Utama:Makassar, Pengumpul:Namrole, Utama:Makassar, Pengumpul:Dobo, Utama:Tanjung Perak, Pengumpul:Dobo, Utama:Tanjung Perak, Pengumpul:Moa, Utama:Tanjung Perak, Pengumpul:Kisar, Utama:Makassar, Pengumpul:Kisar, Utama:Tanjung Perak, Pengumpul:Dobo, Utama:Tanjung Perak, Pengumpul:Saumlaki, Utama:Makassar, Pengumpul:Moa], [Utama:Tanjung Perak, Pengumpul:Saumlaki, Utama:Makassar, Pengumpul:Moa, Utama:Makassar, Pengumpul:Namlea, Utama:Makassar, Pengumpul:Namlea, Utama:Makassar, Pengumpul:Namrole, Utama:Tanjung Perak, Pengumpul:Namrole, Utama:Makassar, Pengumpul:Namrole], [Utama:Tanjung Perak, Pengumpul:Moa, Utama:Tanjung Perak, Pengumpul:Moa, Utama:Tanjung Perak, Pengumpul:Dobo, Utama:Tanjung Perak, Pengumpul:Saumlaki, Utama:Makassar, Pengumpul:Kisar, Utama:Tanjung Perak, Pengumpul:Dobo, Utama:Makassar, Pengumpul:Namlea, Utama:Makassar, Pengumpul:Saumlaki], [Utama:Tanjung Perak, Pengumpul:Dobo, Utama:Makassar, Pengumpul:Saumlaki, Utama:Makassar, Pengumpul:Saumlaki, Utama:Tanjung Perak, Pengumpul:Namrole, Utama:Makassar, Pengumpul:Namrole, Utama:Tanjung Perak, Pengumpul:Moa, Utama:Tanjung Perak, Pengumpul:Namlea], [Utama:Tanjung Perak, Pengumpul:Saumlaki, Utama:Makassar, Pengumpul:Namrole, Utama:Tanjung Perak, Pengumpul:Namlea]]\n",
      "Initial Profit: 1500086306497.3396\n",
      "iteration: 1 current best Profit: 1500086306497.3396 overall best Profit: 1500086306497.3396\n",
      "iteration: 2 current best Profit: 1500086306497.3396 overall best Profit: 1500086306497.3396\n",
      "iteration: 3 current best Profit: 1500086306497.3396 overall best Profit: 1500086306497.3396\n",
      "iteration: 4 current best Profit: 1500086306497.3396 overall best Profit: 1500086306497.3396\n"
     ]
    },
    {
     "ename": "KeyboardInterrupt",
     "evalue": "ignored",
     "output_type": "error",
     "traceback": [
      "\u001b[0;31m---------------------------------------------------------------------------\u001b[0m",
      "\u001b[0;31mKeyboardInterrupt\u001b[0m                         Traceback (most recent call last)",
      "\u001b[0;32m<ipython-input-39-5a97c47c71ab>\u001b[0m in \u001b[0;36m<module>\u001b[0;34m()\u001b[0m\n\u001b[1;32m      1\u001b[0m \u001b[0mTL1\u001b[0m \u001b[0;34m=\u001b[0m \u001b[0mShip\u001b[0m\u001b[0;34m(\u001b[0m\u001b[0;34m'TL'\u001b[0m\u001b[0;34m)\u001b[0m\u001b[0;34m\u001b[0m\u001b[0;34m\u001b[0m\u001b[0m\n\u001b[1;32m      2\u001b[0m \u001b[0minitial_port\u001b[0m \u001b[0;34m=\u001b[0m \u001b[0minitialPopulation_TL\u001b[0m\u001b[0;34m(\u001b[0m\u001b[0mTL1\u001b[0m\u001b[0;34m,\u001b[0m\u001b[0;36m30\u001b[0m\u001b[0;34m,\u001b[0m\u001b[0mTanjung_Perak\u001b[0m\u001b[0;34m,\u001b[0m\u001b[0mmax_port\u001b[0m\u001b[0;34m=\u001b[0m\u001b[0;36m23\u001b[0m\u001b[0;34m)\u001b[0m\u001b[0;34m\u001b[0m\u001b[0;34m\u001b[0m\u001b[0m\n\u001b[0;32m----> 3\u001b[0;31m \u001b[0mcurrent_gene\u001b[0m\u001b[0;34m,\u001b[0m \u001b[0mbest_gene\u001b[0m \u001b[0;34m=\u001b[0m \u001b[0mgeneticAlgorithmPlot_TL\u001b[0m\u001b[0;34m(\u001b[0m\u001b[0mTL1\u001b[0m\u001b[0;34m,\u001b[0m\u001b[0mTanjung_Perak\u001b[0m\u001b[0;34m,\u001b[0m \u001b[0mpopSize\u001b[0m\u001b[0;34m=\u001b[0m\u001b[0;36m50\u001b[0m\u001b[0;34m,\u001b[0m \u001b[0meliteSize\u001b[0m\u001b[0;34m=\u001b[0m\u001b[0;36m15\u001b[0m\u001b[0;34m,\u001b[0m \u001b[0mmutationRate\u001b[0m\u001b[0;34m=\u001b[0m\u001b[0;36m0.007\u001b[0m\u001b[0;34m,\u001b[0m \u001b[0mgenerations\u001b[0m\u001b[0;34m=\u001b[0m\u001b[0;36m500\u001b[0m\u001b[0;34m)\u001b[0m\u001b[0;34m\u001b[0m\u001b[0;34m\u001b[0m\u001b[0m\n\u001b[0m",
      "\u001b[0;32m<ipython-input-29-2fef392135a4>\u001b[0m in \u001b[0;36mgeneticAlgorithmPlot_TL\u001b[0;34m(ship, starting, popSize, eliteSize, mutationRate, generations)\u001b[0m\n\u001b[1;32m     15\u001b[0m         \u001b[0mpop\u001b[0m \u001b[0;34m=\u001b[0m \u001b[0mnextGeneration\u001b[0m\u001b[0;34m(\u001b[0m\u001b[0mship\u001b[0m\u001b[0;34m,\u001b[0m\u001b[0mpop\u001b[0m\u001b[0;34m,\u001b[0m \u001b[0meliteSize\u001b[0m\u001b[0;34m,\u001b[0m \u001b[0mmutationRate\u001b[0m\u001b[0;34m)\u001b[0m\u001b[0;34m\u001b[0m\u001b[0;34m\u001b[0m\u001b[0m\n\u001b[1;32m     16\u001b[0m         \u001b[0;32mif\u001b[0m \u001b[0;34m(\u001b[0m\u001b[0mrank_route\u001b[0m\u001b[0;34m(\u001b[0m\u001b[0mship\u001b[0m\u001b[0;34m,\u001b[0m\u001b[0mpop\u001b[0m\u001b[0;34m)\u001b[0m\u001b[0;34m[\u001b[0m\u001b[0;36m0\u001b[0m\u001b[0;34m]\u001b[0m\u001b[0;34m[\u001b[0m\u001b[0;36m1\u001b[0m\u001b[0;34m]\u001b[0m\u001b[0;34m)\u001b[0m \u001b[0;34m>\u001b[0m \u001b[0mbest_gene_Z\u001b[0m \u001b[0;34m:\u001b[0m\u001b[0;34m\u001b[0m\u001b[0;34m\u001b[0m\u001b[0m\n\u001b[0;32m---> 17\u001b[0;31m           \u001b[0mbest_gene_Z\u001b[0m \u001b[0;34m=\u001b[0m \u001b[0;34m(\u001b[0m\u001b[0mrank_route\u001b[0m\u001b[0;34m(\u001b[0m\u001b[0mship\u001b[0m\u001b[0;34m,\u001b[0m\u001b[0mpop\u001b[0m\u001b[0;34m)\u001b[0m\u001b[0;34m[\u001b[0m\u001b[0;36m0\u001b[0m\u001b[0;34m]\u001b[0m\u001b[0;34m[\u001b[0m\u001b[0;36m1\u001b[0m\u001b[0;34m]\u001b[0m\u001b[0;34m)\u001b[0m\u001b[0;34m\u001b[0m\u001b[0;34m\u001b[0m\u001b[0m\n\u001b[0m\u001b[1;32m     18\u001b[0m           \u001b[0mbest_route_overall\u001b[0m \u001b[0;34m=\u001b[0m \u001b[0mpop\u001b[0m\u001b[0;34m[\u001b[0m\u001b[0mrank_route\u001b[0m\u001b[0;34m(\u001b[0m\u001b[0mship\u001b[0m\u001b[0;34m,\u001b[0m\u001b[0mpop\u001b[0m\u001b[0;34m)\u001b[0m\u001b[0;34m[\u001b[0m\u001b[0;36m0\u001b[0m\u001b[0;34m]\u001b[0m\u001b[0;34m[\u001b[0m\u001b[0;36m0\u001b[0m\u001b[0;34m]\u001b[0m\u001b[0;34m]\u001b[0m\u001b[0;34m\u001b[0m\u001b[0;34m\u001b[0m\u001b[0m\n\u001b[1;32m     19\u001b[0m \u001b[0;34m\u001b[0m\u001b[0m\n",
      "\u001b[0;32m<ipython-input-21-d9bb036e81d5>\u001b[0m in \u001b[0;36mrank_route\u001b[0;34m(ship, population)\u001b[0m\n\u001b[1;32m      2\u001b[0m   \u001b[0mfitnessResults\u001b[0m \u001b[0;34m=\u001b[0m \u001b[0;34m{\u001b[0m\u001b[0;34m}\u001b[0m\u001b[0;34m\u001b[0m\u001b[0;34m\u001b[0m\u001b[0m\n\u001b[1;32m      3\u001b[0m   \u001b[0;32mfor\u001b[0m \u001b[0mi\u001b[0m \u001b[0;32min\u001b[0m \u001b[0mrange\u001b[0m\u001b[0;34m(\u001b[0m\u001b[0;36m0\u001b[0m\u001b[0;34m,\u001b[0m\u001b[0mlen\u001b[0m\u001b[0;34m(\u001b[0m\u001b[0mpopulation\u001b[0m\u001b[0;34m)\u001b[0m\u001b[0;34m)\u001b[0m\u001b[0;34m:\u001b[0m\u001b[0;34m\u001b[0m\u001b[0;34m\u001b[0m\u001b[0m\n\u001b[0;32m----> 4\u001b[0;31m     \u001b[0mfitnessResults\u001b[0m\u001b[0;34m[\u001b[0m\u001b[0mi\u001b[0m\u001b[0;34m]\u001b[0m \u001b[0;34m=\u001b[0m \u001b[0mTotal_Profit\u001b[0m\u001b[0;34m(\u001b[0m\u001b[0mship\u001b[0m\u001b[0;34m,\u001b[0m\u001b[0mpopulation\u001b[0m\u001b[0;34m[\u001b[0m\u001b[0mi\u001b[0m\u001b[0;34m]\u001b[0m\u001b[0;34m)\u001b[0m\u001b[0;34m\u001b[0m\u001b[0;34m\u001b[0m\u001b[0m\n\u001b[0m\u001b[1;32m      5\u001b[0m   \u001b[0;32mreturn\u001b[0m \u001b[0msorted\u001b[0m\u001b[0;34m(\u001b[0m\u001b[0mfitnessResults\u001b[0m\u001b[0;34m.\u001b[0m\u001b[0mitems\u001b[0m\u001b[0;34m(\u001b[0m\u001b[0;34m)\u001b[0m\u001b[0;34m,\u001b[0m \u001b[0mkey\u001b[0m \u001b[0;34m=\u001b[0m \u001b[0moperator\u001b[0m\u001b[0;34m.\u001b[0m\u001b[0mitemgetter\u001b[0m\u001b[0;34m(\u001b[0m\u001b[0;36m1\u001b[0m\u001b[0;34m)\u001b[0m\u001b[0;34m,\u001b[0m \u001b[0mreverse\u001b[0m \u001b[0;34m=\u001b[0m \u001b[0;32mTrue\u001b[0m\u001b[0;34m)\u001b[0m\u001b[0;34m\u001b[0m\u001b[0;34m\u001b[0m\u001b[0m\n",
      "\u001b[0;32m<ipython-input-19-1fb4b309b3da>\u001b[0m in \u001b[0;36mTotal_Profit\u001b[0;34m(ship, route)\u001b[0m\n\u001b[1;32m      1\u001b[0m \u001b[0;32mdef\u001b[0m \u001b[0mTotal_Profit\u001b[0m\u001b[0;34m(\u001b[0m\u001b[0mship\u001b[0m\u001b[0;34m,\u001b[0m\u001b[0mroute\u001b[0m\u001b[0;34m)\u001b[0m\u001b[0;34m:\u001b[0m\u001b[0;34m\u001b[0m\u001b[0;34m\u001b[0m\u001b[0m\n\u001b[1;32m      2\u001b[0m   \u001b[0;32mif\u001b[0m \u001b[0mship\u001b[0m\u001b[0;34m.\u001b[0m\u001b[0mship_type\u001b[0m \u001b[0;34m==\u001b[0m \u001b[0;34m'TL'\u001b[0m\u001b[0;34m:\u001b[0m\u001b[0;34m\u001b[0m\u001b[0;34m\u001b[0m\u001b[0m\n\u001b[0;32m----> 3\u001b[0;31m     \u001b[0mZ\u001b[0m \u001b[0;34m=\u001b[0m \u001b[0mtotal_ZTL\u001b[0m\u001b[0;34m(\u001b[0m\u001b[0mship\u001b[0m\u001b[0;34m,\u001b[0m\u001b[0mroute\u001b[0m\u001b[0;34m)\u001b[0m\u001b[0;34m\u001b[0m\u001b[0;34m\u001b[0m\u001b[0m\n\u001b[0m\u001b[1;32m      4\u001b[0m   \u001b[0;32melse\u001b[0m\u001b[0;34m:\u001b[0m\u001b[0;34m\u001b[0m\u001b[0;34m\u001b[0m\u001b[0m\n\u001b[1;32m      5\u001b[0m     \u001b[0mZ\u001b[0m \u001b[0;34m=\u001b[0m \u001b[0;36m0\u001b[0m\u001b[0;34m\u001b[0m\u001b[0;34m\u001b[0m\u001b[0m\n",
      "\u001b[0;32m<ipython-input-18-b2e1ff6dc169>\u001b[0m in \u001b[0;36mtotal_ZTL\u001b[0;34m(ship, route)\u001b[0m\n\u001b[1;32m     11\u001b[0m       \u001b[0mprint\u001b[0m\u001b[0;34m(\u001b[0m\u001b[0;34m'route type does not match'\u001b[0m\u001b[0;34m)\u001b[0m\u001b[0;34m\u001b[0m\u001b[0;34m\u001b[0m\u001b[0m\n\u001b[1;32m     12\u001b[0m \u001b[0;34m\u001b[0m\u001b[0m\n\u001b[0;32m---> 13\u001b[0;31m     \u001b[0mZ\u001b[0m \u001b[0;34m+=\u001b[0m \u001b[0mship\u001b[0m\u001b[0;34m.\u001b[0m\u001b[0mZ\u001b[0m\u001b[0;34m(\u001b[0m\u001b[0mport_A\u001b[0m\u001b[0;34m,\u001b[0m \u001b[0mport_B\u001b[0m\u001b[0;34m)\u001b[0m\u001b[0;34m\u001b[0m\u001b[0;34m\u001b[0m\u001b[0m\n\u001b[0m\u001b[1;32m     14\u001b[0m   \u001b[0;32mreturn\u001b[0m \u001b[0mZ\u001b[0m\u001b[0;34m\u001b[0m\u001b[0;34m\u001b[0m\u001b[0m\n",
      "\u001b[0;32m<ipython-input-5-68d7b7c14c4a>\u001b[0m in \u001b[0;36mZ\u001b[0;34m(self, *ports)\u001b[0m\n\u001b[1;32m      8\u001b[0m       \u001b[0mdf\u001b[0m \u001b[0;34m=\u001b[0m \u001b[0mZTL\u001b[0m\u001b[0;34m\u001b[0m\u001b[0;34m\u001b[0m\u001b[0m\n\u001b[1;32m      9\u001b[0m       \u001b[0mstring\u001b[0m \u001b[0;34m=\u001b[0m \u001b[0;34m'ZTL'\u001b[0m\u001b[0;34m\u001b[0m\u001b[0;34m\u001b[0m\u001b[0m\n\u001b[0;32m---> 10\u001b[0;31m       \u001b[0mZ\u001b[0m \u001b[0;34m=\u001b[0m \u001b[0mfloat\u001b[0m\u001b[0;34m(\u001b[0m\u001b[0mdf\u001b[0m\u001b[0;34m[\u001b[0m\u001b[0;34m(\u001b[0m\u001b[0mdf\u001b[0m\u001b[0;34m[\u001b[0m\u001b[0mports\u001b[0m\u001b[0;34m[\u001b[0m\u001b[0;36m0\u001b[0m\u001b[0;34m]\u001b[0m\u001b[0;34m.\u001b[0m\u001b[0mport_type\u001b[0m\u001b[0;34m]\u001b[0m \u001b[0;34m==\u001b[0m \u001b[0mports\u001b[0m\u001b[0;34m[\u001b[0m\u001b[0;36m0\u001b[0m\u001b[0;34m]\u001b[0m\u001b[0;34m.\u001b[0m\u001b[0mname\u001b[0m\u001b[0;34m)\u001b[0m \u001b[0;34m&\u001b[0m \u001b[0;34m(\u001b[0m\u001b[0mdf\u001b[0m\u001b[0;34m[\u001b[0m\u001b[0mports\u001b[0m\u001b[0;34m[\u001b[0m\u001b[0;36m1\u001b[0m\u001b[0;34m]\u001b[0m\u001b[0;34m.\u001b[0m\u001b[0mport_type\u001b[0m\u001b[0;34m]\u001b[0m \u001b[0;34m==\u001b[0m \u001b[0mports\u001b[0m\u001b[0;34m[\u001b[0m\u001b[0;36m1\u001b[0m\u001b[0;34m]\u001b[0m\u001b[0;34m.\u001b[0m\u001b[0mname\u001b[0m\u001b[0;34m)\u001b[0m\u001b[0;34m]\u001b[0m\u001b[0;34m[\u001b[0m\u001b[0mstring\u001b[0m\u001b[0;34m]\u001b[0m\u001b[0;34m.\u001b[0m\u001b[0mvalues\u001b[0m\u001b[0;34m)\u001b[0m\u001b[0;34m\u001b[0m\u001b[0;34m\u001b[0m\u001b[0m\n\u001b[0m\u001b[1;32m     11\u001b[0m \u001b[0;34m\u001b[0m\u001b[0m\n\u001b[1;32m     12\u001b[0m     \u001b[0;32melif\u001b[0m \u001b[0mself\u001b[0m\u001b[0;34m.\u001b[0m\u001b[0mship_type\u001b[0m \u001b[0;34m==\u001b[0m \u001b[0;34m'PR'\u001b[0m\u001b[0;34m:\u001b[0m\u001b[0;34m\u001b[0m\u001b[0;34m\u001b[0m\u001b[0m\n",
      "\u001b[0;32m/usr/local/lib/python3.6/dist-packages/pandas/core/ops.py\u001b[0m in \u001b[0;36mwrapper\u001b[0;34m(self, other)\u001b[0m\n\u001b[1;32m   1851\u001b[0m         unfilled = self._constructor(res_values,\n\u001b[1;32m   1852\u001b[0m                                      index=self.index, name=res_name)\n\u001b[0;32m-> 1853\u001b[0;31m         \u001b[0mfilled\u001b[0m \u001b[0;34m=\u001b[0m \u001b[0mfiller\u001b[0m\u001b[0;34m(\u001b[0m\u001b[0munfilled\u001b[0m\u001b[0;34m)\u001b[0m\u001b[0;34m\u001b[0m\u001b[0;34m\u001b[0m\u001b[0m\n\u001b[0m\u001b[1;32m   1854\u001b[0m         \u001b[0;32mreturn\u001b[0m \u001b[0mfinalizer\u001b[0m\u001b[0;34m(\u001b[0m\u001b[0mfilled\u001b[0m\u001b[0;34m)\u001b[0m\u001b[0;34m\u001b[0m\u001b[0;34m\u001b[0m\u001b[0m\n\u001b[1;32m   1855\u001b[0m \u001b[0;34m\u001b[0m\u001b[0m\n",
      "\u001b[0;32m/usr/local/lib/python3.6/dist-packages/pandas/core/ops.py\u001b[0m in \u001b[0;36m<lambda>\u001b[0;34m(x)\u001b[0m\n\u001b[1;32m   1813\u001b[0m \u001b[0;34m\u001b[0m\u001b[0m\n\u001b[1;32m   1814\u001b[0m     \u001b[0mfill_int\u001b[0m \u001b[0;34m=\u001b[0m \u001b[0;32mlambda\u001b[0m \u001b[0mx\u001b[0m\u001b[0;34m:\u001b[0m \u001b[0mx\u001b[0m\u001b[0;34m.\u001b[0m\u001b[0mfillna\u001b[0m\u001b[0;34m(\u001b[0m\u001b[0;36m0\u001b[0m\u001b[0;34m)\u001b[0m\u001b[0;34m\u001b[0m\u001b[0;34m\u001b[0m\u001b[0m\n\u001b[0;32m-> 1815\u001b[0;31m     \u001b[0mfill_bool\u001b[0m \u001b[0;34m=\u001b[0m \u001b[0;32mlambda\u001b[0m \u001b[0mx\u001b[0m\u001b[0;34m:\u001b[0m \u001b[0mx\u001b[0m\u001b[0;34m.\u001b[0m\u001b[0mfillna\u001b[0m\u001b[0;34m(\u001b[0m\u001b[0;32mFalse\u001b[0m\u001b[0;34m)\u001b[0m\u001b[0;34m.\u001b[0m\u001b[0mastype\u001b[0m\u001b[0;34m(\u001b[0m\u001b[0mbool\u001b[0m\u001b[0;34m)\u001b[0m\u001b[0;34m\u001b[0m\u001b[0;34m\u001b[0m\u001b[0m\n\u001b[0m\u001b[1;32m   1816\u001b[0m \u001b[0;34m\u001b[0m\u001b[0m\n\u001b[1;32m   1817\u001b[0m     \u001b[0;32mdef\u001b[0m \u001b[0mwrapper\u001b[0m\u001b[0;34m(\u001b[0m\u001b[0mself\u001b[0m\u001b[0;34m,\u001b[0m \u001b[0mother\u001b[0m\u001b[0;34m)\u001b[0m\u001b[0;34m:\u001b[0m\u001b[0;34m\u001b[0m\u001b[0;34m\u001b[0m\u001b[0m\n",
      "\u001b[0;32m/usr/local/lib/python3.6/dist-packages/pandas/core/series.py\u001b[0m in \u001b[0;36mfillna\u001b[0;34m(self, value, method, axis, inplace, limit, downcast, **kwargs)\u001b[0m\n\u001b[1;32m   3836\u001b[0m                                           \u001b[0maxis\u001b[0m\u001b[0;34m=\u001b[0m\u001b[0maxis\u001b[0m\u001b[0;34m,\u001b[0m \u001b[0minplace\u001b[0m\u001b[0;34m=\u001b[0m\u001b[0minplace\u001b[0m\u001b[0;34m,\u001b[0m\u001b[0;34m\u001b[0m\u001b[0;34m\u001b[0m\u001b[0m\n\u001b[1;32m   3837\u001b[0m                                           \u001b[0mlimit\u001b[0m\u001b[0;34m=\u001b[0m\u001b[0mlimit\u001b[0m\u001b[0;34m,\u001b[0m \u001b[0mdowncast\u001b[0m\u001b[0;34m=\u001b[0m\u001b[0mdowncast\u001b[0m\u001b[0;34m,\u001b[0m\u001b[0;34m\u001b[0m\u001b[0;34m\u001b[0m\u001b[0m\n\u001b[0;32m-> 3838\u001b[0;31m                                           **kwargs)\n\u001b[0m\u001b[1;32m   3839\u001b[0m \u001b[0;34m\u001b[0m\u001b[0m\n\u001b[1;32m   3840\u001b[0m     \u001b[0;34m@\u001b[0m\u001b[0mAppender\u001b[0m\u001b[0;34m(\u001b[0m\u001b[0mgeneric\u001b[0m\u001b[0;34m.\u001b[0m\u001b[0m_shared_docs\u001b[0m\u001b[0;34m[\u001b[0m\u001b[0;34m'replace'\u001b[0m\u001b[0;34m]\u001b[0m \u001b[0;34m%\u001b[0m \u001b[0m_shared_doc_kwargs\u001b[0m\u001b[0;34m)\u001b[0m\u001b[0;34m\u001b[0m\u001b[0;34m\u001b[0m\u001b[0m\n",
      "\u001b[0;32m/usr/local/lib/python3.6/dist-packages/pandas/core/generic.py\u001b[0m in \u001b[0;36mfillna\u001b[0;34m(self, value, method, axis, inplace, limit, downcast)\u001b[0m\n\u001b[1;32m   6042\u001b[0m         \"\"\"\n\u001b[1;32m   6043\u001b[0m         \u001b[0minplace\u001b[0m \u001b[0;34m=\u001b[0m \u001b[0mvalidate_bool_kwarg\u001b[0m\u001b[0;34m(\u001b[0m\u001b[0minplace\u001b[0m\u001b[0;34m,\u001b[0m \u001b[0;34m'inplace'\u001b[0m\u001b[0;34m)\u001b[0m\u001b[0;34m\u001b[0m\u001b[0;34m\u001b[0m\u001b[0m\n\u001b[0;32m-> 6044\u001b[0;31m         \u001b[0mvalue\u001b[0m\u001b[0;34m,\u001b[0m \u001b[0mmethod\u001b[0m \u001b[0;34m=\u001b[0m \u001b[0mvalidate_fillna_kwargs\u001b[0m\u001b[0;34m(\u001b[0m\u001b[0mvalue\u001b[0m\u001b[0;34m,\u001b[0m \u001b[0mmethod\u001b[0m\u001b[0;34m)\u001b[0m\u001b[0;34m\u001b[0m\u001b[0;34m\u001b[0m\u001b[0m\n\u001b[0m\u001b[1;32m   6045\u001b[0m \u001b[0;34m\u001b[0m\u001b[0m\n\u001b[1;32m   6046\u001b[0m         \u001b[0mself\u001b[0m\u001b[0;34m.\u001b[0m\u001b[0m_consolidate_inplace\u001b[0m\u001b[0;34m(\u001b[0m\u001b[0;34m)\u001b[0m\u001b[0;34m\u001b[0m\u001b[0;34m\u001b[0m\u001b[0m\n",
      "\u001b[0;32m/usr/local/lib/python3.6/dist-packages/pandas/util/_validators.py\u001b[0m in \u001b[0;36mvalidate_fillna_kwargs\u001b[0;34m(value, method, validate_scalar_dict_value)\u001b[0m\n\u001b[1;32m    341\u001b[0m     \u001b[0mvalue\u001b[0m\u001b[0;34m,\u001b[0m \u001b[0mmethod\u001b[0m \u001b[0;34m:\u001b[0m \u001b[0mobject\u001b[0m\u001b[0;34m\u001b[0m\u001b[0;34m\u001b[0m\u001b[0m\n\u001b[1;32m    342\u001b[0m     \"\"\"\n\u001b[0;32m--> 343\u001b[0;31m     \u001b[0;32mfrom\u001b[0m \u001b[0mpandas\u001b[0m\u001b[0;34m.\u001b[0m\u001b[0mcore\u001b[0m\u001b[0;34m.\u001b[0m\u001b[0mmissing\u001b[0m \u001b[0;32mimport\u001b[0m \u001b[0mclean_fill_method\u001b[0m\u001b[0;34m\u001b[0m\u001b[0;34m\u001b[0m\u001b[0m\n\u001b[0m\u001b[1;32m    344\u001b[0m \u001b[0;34m\u001b[0m\u001b[0m\n\u001b[1;32m    345\u001b[0m     \u001b[0;32mif\u001b[0m \u001b[0mvalue\u001b[0m \u001b[0;32mis\u001b[0m \u001b[0;32mNone\u001b[0m \u001b[0;32mand\u001b[0m \u001b[0mmethod\u001b[0m \u001b[0;32mis\u001b[0m \u001b[0;32mNone\u001b[0m\u001b[0;34m:\u001b[0m\u001b[0;34m\u001b[0m\u001b[0;34m\u001b[0m\u001b[0m\n",
      "\u001b[0;32m/usr/lib/python3.6/importlib/_bootstrap.py\u001b[0m in \u001b[0;36m_handle_fromlist\u001b[0;34m(module, fromlist, import_, recursive)\u001b[0m\n",
      "\u001b[0;31mKeyboardInterrupt\u001b[0m: "
     ]
    }
   ],
   "source": [
    "TL1 = Ship('TL')\n",
    "initial_port = initialPopulation_TL(TL1,30,Tanjung_Perak,max_port=23)\n",
    "current_gene, best_gene = geneticAlgorithmPlot_TL(TL1,Tanjung_Perak, popSize=50, eliteSize=15, mutationRate=0.007, generations=500)"
   ]
  },
  {
   "cell_type": "code",
   "execution_count": 0,
   "metadata": {
    "colab": {},
    "colab_type": "code",
    "id": "z4GVVuxQdZbv"
   },
   "outputs": [],
   "source": []
  }
 ],
 "metadata": {
  "colab": {
   "name": "GA_jaringan_kapal",
   "provenance": []
  },
  "kernelspec": {
   "display_name": "Python 3",
   "language": "python",
   "name": "python3"
  },
  "language_info": {
   "codemirror_mode": {
    "name": "ipython",
    "version": 3
   },
   "file_extension": ".py",
   "mimetype": "text/x-python",
   "name": "python",
   "nbconvert_exporter": "python",
   "pygments_lexer": "ipython3",
   "version": "3.7.3"
  }
 },
 "nbformat": 4,
 "nbformat_minor": 1
}
