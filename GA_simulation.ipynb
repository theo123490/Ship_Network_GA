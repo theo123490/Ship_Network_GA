{
 "cells": [
  {
   "cell_type": "code",
   "execution_count": 7,
   "metadata": {},
   "outputs": [],
   "source": [
    "import simulation_lib as sl\n",
    "import numpy as np\n",
    "import pandas as pd\n",
    "import random\n",
    "import operator\n",
    "import pandas as pd\n",
    "import matplotlib.pyplot as plt\n",
    "import re\n",
    "from geopy import distance\n",
    "import time\n",
    "import math"
   ]
  },
  {
   "cell_type": "code",
   "execution_count": 25,
   "metadata": {},
   "outputs": [],
   "source": [
    "TL_char = sl.read_excel_revisi('TL_char')\n",
    "PL_char = sl.read_excel_revisi('PL_char')\n",
    "PR_char = sl.read_excel_revisi('PR_char')\n",
    "\n",
    "special_PR = pd.read_excel('Data Prep Revisi.xlsx', sheet_name='special_PR')\n",
    "special_PR = special_PR.applymap(lambda x: x.strip() if isinstance(x, str) else x)\n",
    "\n",
    "port_item = pd.read_excel('data.xlsx',index_col=0 , sheet_name='Barang')\n",
    "port_item = port_item.applymap(lambda x: x.strip() if isinstance(x, str) else x)\n",
    "\n",
    "biaya_jarak_teus = sl.read_excel_revisi('Biaya_Jarak_Teus')\n",
    "\n",
    "wave_status = pd.read_excel('Data Prep Revisi.xlsx', sheet_name='wave_status')\n",
    "wave_status = wave_status.applymap(lambda x: x.strip() if isinstance(x, str) else x)\n",
    "\n",
    "ports = pd.read_excel('Data Prep Revisi.xlsx', sheet_name='ports')\n",
    "ports = ports.applymap(lambda x: x.strip() if isinstance(x, str) else x)\n"
   ]
  },
  {
   "cell_type": "code",
   "execution_count": 26,
   "metadata": {},
   "outputs": [],
   "source": [
    "R_list = ports[ports['port_type'] == 'R']['port'].to_list()\n",
    "P_list = ports[ports['port_type'] == 'P']['port'].to_list()\n",
    "PL_P_list = ['Banda Neira','Dobo','Ambon','Tual','Saumlaki']\n",
    "PL_non_P_list = list(set(P_list)-set(PL_P_list))"
   ]
  },
  {
   "cell_type": "code",
   "execution_count": 27,
   "metadata": {},
   "outputs": [],
   "source": [
    "special_P_port = special_PR.columns.to_list()\n",
    "wave_status = sl.calculate_availibility(wave_status)"
   ]
  },
  {
   "cell_type": "code",
   "execution_count": 28,
   "metadata": {},
   "outputs": [],
   "source": [
    "Ambon_R_list = special_PR['Ambon'].dropna().to_list()\n",
    "Tual_R_list = special_PR['Tual'].dropna().to_list()\n",
    "Saumlaki_R_list = special_PR['Saumlaki'].dropna().to_list()"
   ]
  },
  {
   "cell_type": "code",
   "execution_count": 29,
   "metadata": {},
   "outputs": [],
   "source": [
    "TL1_data = pd.read_excel('Data Ship.xlsx', sheet_name='TL1')\n",
    "TL2_data = pd.read_excel('Data Ship.xlsx', sheet_name='TL2')\n",
    "PL1_data = pd.read_excel('Data Ship.xlsx', sheet_name='PL1')\n",
    "PR_Ambon_data = pd.read_excel('Data Ship.xlsx', sheet_name='PR_Ambon')\n",
    "PR_Saumlaki_data = pd.read_excel('Data Ship.xlsx', sheet_name='PR_Saumlaki')\n",
    "PR_Tual_data = pd.read_excel('Data Ship.xlsx', sheet_name='PR_Tual')\n"
   ]
  },
  {
   "cell_type": "code",
   "execution_count": 30,
   "metadata": {},
   "outputs": [],
   "source": [
    "port_loc = pd.read_csv('port_coordinates.csv')\n",
    "port_loc['Lat_decimal'] = port_loc['Latitude'].apply(sl.parse_dms)\n",
    "port_loc['Long_decimal'] = port_loc['Longitude'].apply(sl.parse_dms)"
   ]
  },
  {
   "cell_type": "code",
   "execution_count": 31,
   "metadata": {},
   "outputs": [],
   "source": [
    "biaya_jarak_teus = sl.fill_mean(biaya_jarak_teus)\n",
    "TL_char = sl.fill_mean(TL_char)\n",
    "PL_char = sl.fill_mean(PL_char)\n",
    "PR_char = sl.fill_mean(PR_char)"
   ]
  },
  {
   "cell_type": "markdown",
   "metadata": {},
   "source": [
    "# DATA DUMMY"
   ]
  },
  {
   "cell_type": "code",
   "execution_count": 32,
   "metadata": {},
   "outputs": [],
   "source": [
    "all_port_item  = pd.read_csv('barang_dummy.csv',index_col=0)\n",
    "all_port_item = all_port_item.applymap(lambda x: x.strip() if isinstance(x, str) else x)"
   ]
  },
  {
   "cell_type": "markdown",
   "metadata": {},
   "source": [
    "# Start Simulation"
   ]
  },
  {
   "cell_type": "code",
   "execution_count": 33,
   "metadata": {},
   "outputs": [
    {
     "ename": "NameError",
     "evalue": "name 'ports' is not defined",
     "output_type": "error",
     "traceback": [
      "\u001b[1;31m---------------------------------------------------------------------------\u001b[0m",
      "\u001b[1;31mNameError\u001b[0m                                 Traceback (most recent call last)",
      "\u001b[1;32m<ipython-input-33-69b06c5c19bc>\u001b[0m in \u001b[0;36m<module>\u001b[1;34m\u001b[0m\n\u001b[1;32m----> 1\u001b[1;33m \u001b[0mports\u001b[0m\u001b[1;33m[\u001b[0m\u001b[1;34m'port_object'\u001b[0m\u001b[1;33m]\u001b[0m \u001b[1;33m=\u001b[0m \u001b[0mports\u001b[0m\u001b[1;33m[\u001b[0m\u001b[1;34m'port'\u001b[0m\u001b[1;33m]\u001b[0m\u001b[1;33m.\u001b[0m\u001b[0mapply\u001b[0m\u001b[1;33m(\u001b[0m\u001b[1;32mlambda\u001b[0m \u001b[0mx\u001b[0m\u001b[1;33m:\u001b[0m \u001b[0msl\u001b[0m\u001b[1;33m.\u001b[0m\u001b[0mquickport\u001b[0m\u001b[1;33m(\u001b[0m\u001b[0mx\u001b[0m\u001b[1;33m)\u001b[0m\u001b[1;33m)\u001b[0m\u001b[1;33m\u001b[0m\u001b[1;33m\u001b[0m\u001b[0m\n\u001b[0m",
      "\u001b[1;32mC:\\ProgramData\\Anaconda3\\lib\\site-packages\\pandas\\core\\series.py\u001b[0m in \u001b[0;36mapply\u001b[1;34m(self, func, convert_dtype, args, **kwds)\u001b[0m\n\u001b[0;32m   3589\u001b[0m             \u001b[1;32melse\u001b[0m\u001b[1;33m:\u001b[0m\u001b[1;33m\u001b[0m\u001b[1;33m\u001b[0m\u001b[0m\n\u001b[0;32m   3590\u001b[0m                 \u001b[0mvalues\u001b[0m \u001b[1;33m=\u001b[0m \u001b[0mself\u001b[0m\u001b[1;33m.\u001b[0m\u001b[0mastype\u001b[0m\u001b[1;33m(\u001b[0m\u001b[0mobject\u001b[0m\u001b[1;33m)\u001b[0m\u001b[1;33m.\u001b[0m\u001b[0mvalues\u001b[0m\u001b[1;33m\u001b[0m\u001b[1;33m\u001b[0m\u001b[0m\n\u001b[1;32m-> 3591\u001b[1;33m                 \u001b[0mmapped\u001b[0m \u001b[1;33m=\u001b[0m \u001b[0mlib\u001b[0m\u001b[1;33m.\u001b[0m\u001b[0mmap_infer\u001b[0m\u001b[1;33m(\u001b[0m\u001b[0mvalues\u001b[0m\u001b[1;33m,\u001b[0m \u001b[0mf\u001b[0m\u001b[1;33m,\u001b[0m \u001b[0mconvert\u001b[0m\u001b[1;33m=\u001b[0m\u001b[0mconvert_dtype\u001b[0m\u001b[1;33m)\u001b[0m\u001b[1;33m\u001b[0m\u001b[1;33m\u001b[0m\u001b[0m\n\u001b[0m\u001b[0;32m   3592\u001b[0m \u001b[1;33m\u001b[0m\u001b[0m\n\u001b[0;32m   3593\u001b[0m         \u001b[1;32mif\u001b[0m \u001b[0mlen\u001b[0m\u001b[1;33m(\u001b[0m\u001b[0mmapped\u001b[0m\u001b[1;33m)\u001b[0m \u001b[1;32mand\u001b[0m \u001b[0misinstance\u001b[0m\u001b[1;33m(\u001b[0m\u001b[0mmapped\u001b[0m\u001b[1;33m[\u001b[0m\u001b[1;36m0\u001b[0m\u001b[1;33m]\u001b[0m\u001b[1;33m,\u001b[0m \u001b[0mSeries\u001b[0m\u001b[1;33m)\u001b[0m\u001b[1;33m:\u001b[0m\u001b[1;33m\u001b[0m\u001b[1;33m\u001b[0m\u001b[0m\n",
      "\u001b[1;32mpandas/_libs/lib.pyx\u001b[0m in \u001b[0;36mpandas._libs.lib.map_infer\u001b[1;34m()\u001b[0m\n",
      "\u001b[1;32m<ipython-input-33-69b06c5c19bc>\u001b[0m in \u001b[0;36m<lambda>\u001b[1;34m(x)\u001b[0m\n\u001b[1;32m----> 1\u001b[1;33m \u001b[0mports\u001b[0m\u001b[1;33m[\u001b[0m\u001b[1;34m'port_object'\u001b[0m\u001b[1;33m]\u001b[0m \u001b[1;33m=\u001b[0m \u001b[0mports\u001b[0m\u001b[1;33m[\u001b[0m\u001b[1;34m'port'\u001b[0m\u001b[1;33m]\u001b[0m\u001b[1;33m.\u001b[0m\u001b[0mapply\u001b[0m\u001b[1;33m(\u001b[0m\u001b[1;32mlambda\u001b[0m \u001b[0mx\u001b[0m\u001b[1;33m:\u001b[0m \u001b[0msl\u001b[0m\u001b[1;33m.\u001b[0m\u001b[0mquickport\u001b[0m\u001b[1;33m(\u001b[0m\u001b[0mx\u001b[0m\u001b[1;33m)\u001b[0m\u001b[1;33m)\u001b[0m\u001b[1;33m\u001b[0m\u001b[1;33m\u001b[0m\u001b[0m\n\u001b[0m",
      "\u001b[1;32mC:\\WORK\\Freelancing\\Genetic Algorithm Jaringan Kapal\\Code\\simulation_lib.py\u001b[0m in \u001b[0;36mquickport\u001b[1;34m(port_name)\u001b[0m\n\u001b[0;32m     67\u001b[0m \u001b[1;33m\u001b[0m\u001b[0m\n\u001b[0;32m     68\u001b[0m \u001b[1;32mdef\u001b[0m \u001b[0mchooseport\u001b[0m\u001b[1;33m(\u001b[0m\u001b[0mport_name\u001b[0m\u001b[1;33m)\u001b[0m\u001b[1;33m:\u001b[0m\u001b[1;33m\u001b[0m\u001b[1;33m\u001b[0m\u001b[0m\n\u001b[1;32m---> 69\u001b[1;33m     \u001b[0mport_name\u001b[0m \u001b[1;33m=\u001b[0m \u001b[0mport_name\u001b[0m\u001b[1;33m.\u001b[0m\u001b[0mrstrip\u001b[0m\u001b[1;33m(\u001b[0m\u001b[1;33m)\u001b[0m\u001b[1;33m\u001b[0m\u001b[1;33m\u001b[0m\u001b[0m\n\u001b[0m\u001b[0;32m     70\u001b[0m     \u001b[0mport_name\u001b[0m \u001b[1;33m=\u001b[0m \u001b[0mport_name\u001b[0m\u001b[1;33m.\u001b[0m\u001b[0mlstrip\u001b[0m\u001b[1;33m(\u001b[0m\u001b[1;33m)\u001b[0m\u001b[1;33m\u001b[0m\u001b[1;33m\u001b[0m\u001b[0m\n\u001b[0;32m     71\u001b[0m     \u001b[1;32mreturn\u001b[0m \u001b[0mports\u001b[0m\u001b[1;33m[\u001b[0m\u001b[0mports\u001b[0m\u001b[1;33m[\u001b[0m\u001b[1;34m'port'\u001b[0m\u001b[1;33m]\u001b[0m \u001b[1;33m==\u001b[0m \u001b[0mport_name\u001b[0m\u001b[1;33m]\u001b[0m\u001b[1;33m[\u001b[0m\u001b[1;34m'port_object'\u001b[0m\u001b[1;33m]\u001b[0m\u001b[1;33m.\u001b[0m\u001b[0miloc\u001b[0m\u001b[1;33m[\u001b[0m\u001b[1;36m0\u001b[0m\u001b[1;33m]\u001b[0m\u001b[1;33m\u001b[0m\u001b[1;33m\u001b[0m\u001b[0m\n",
      "\u001b[1;31mNameError\u001b[0m: name 'ports' is not defined"
     ]
    }
   ],
   "source": [
    "ports['port_object'] = ports['port'].apply(lambda x: sl.quickport(x))"
   ]
  },
  {
   "cell_type": "code",
   "execution_count": 22,
   "metadata": {},
   "outputs": [
    {
     "ename": "NameError",
     "evalue": "name 'create_route' is not defined",
     "output_type": "error",
     "traceback": [
      "\u001b[1;31m---------------------------------------------------------------------------\u001b[0m",
      "\u001b[1;31mNameError\u001b[0m                                 Traceback (most recent call last)",
      "\u001b[1;32m<ipython-input-22-33f412e231db>\u001b[0m in \u001b[0;36m<module>\u001b[1;34m\u001b[0m\n\u001b[0;32m      1\u001b[0m \u001b[0mroute_list\u001b[0m \u001b[1;33m=\u001b[0m \u001b[1;33m[\u001b[0m\u001b[1;34m'Tanjung Perak'\u001b[0m\u001b[1;33m,\u001b[0m\u001b[1;34m'Saumlaki'\u001b[0m\u001b[1;33m,\u001b[0m\u001b[1;34m'Tanjung Priok'\u001b[0m\u001b[1;33m,\u001b[0m\u001b[1;34m'Dobo'\u001b[0m\u001b[1;33m,\u001b[0m\u001b[1;34m'Namlea'\u001b[0m\u001b[1;33m]\u001b[0m\u001b[1;33m\u001b[0m\u001b[1;33m\u001b[0m\u001b[0m\n\u001b[1;32m----> 2\u001b[1;33m \u001b[0mroute\u001b[0m \u001b[1;33m=\u001b[0m \u001b[0mcreate_route\u001b[0m\u001b[1;33m(\u001b[0m\u001b[0mroute_list\u001b[0m\u001b[1;33m)\u001b[0m\u001b[1;33m\u001b[0m\u001b[1;33m\u001b[0m\u001b[0m\n\u001b[0m",
      "\u001b[1;31mNameError\u001b[0m: name 'create_route' is not defined"
     ]
    }
   ],
   "source": [
    "route_list = ['Tanjung Perak','Saumlaki','Tanjung Priok','Dobo','Namlea']\n",
    "route = create_route(route_list)"
   ]
  },
  {
   "cell_type": "code",
   "execution_count": 23,
   "metadata": {},
   "outputs": [
    {
     "ename": "NameError",
     "evalue": "name 'create_ship_df' is not defined",
     "output_type": "error",
     "traceback": [
      "\u001b[1;31m---------------------------------------------------------------------------\u001b[0m",
      "\u001b[1;31mNameError\u001b[0m                                 Traceback (most recent call last)",
      "\u001b[1;32m<ipython-input-23-627d47a00769>\u001b[0m in \u001b[0;36m<module>\u001b[1;34m\u001b[0m\n\u001b[1;32m----> 1\u001b[1;33m \u001b[0mship_df\u001b[0m \u001b[1;33m=\u001b[0m \u001b[0mcreate_ship_df\u001b[0m\u001b[1;33m(\u001b[0m\u001b[1;33m)\u001b[0m\u001b[1;33m\u001b[0m\u001b[1;33m\u001b[0m\u001b[0m\n\u001b[0m\u001b[0;32m      2\u001b[0m \u001b[0mavailable_ship\u001b[0m \u001b[1;33m=\u001b[0m \u001b[0mship_df\u001b[0m\u001b[1;33m[\u001b[0m\u001b[1;34m'object'\u001b[0m\u001b[1;33m]\u001b[0m\u001b[1;33m.\u001b[0m\u001b[0mto_list\u001b[0m\u001b[1;33m(\u001b[0m\u001b[1;33m)\u001b[0m\u001b[1;33m\u001b[0m\u001b[1;33m\u001b[0m\u001b[0m\n",
      "\u001b[1;31mNameError\u001b[0m: name 'create_ship_df' is not defined"
     ]
    }
   ],
   "source": [
    "ship_df = create_ship_df()\n",
    "available_ship = ship_df['object'].to_list()"
   ]
  },
  {
   "cell_type": "code",
   "execution_count": 20,
   "metadata": {},
   "outputs": [
    {
     "ename": "NameError",
     "evalue": "name 'wave_status' is not defined",
     "output_type": "error",
     "traceback": [
      "\u001b[1;31m---------------------------------------------------------------------------\u001b[0m",
      "\u001b[1;31mNameError\u001b[0m                                 Traceback (most recent call last)",
      "\u001b[1;32m<ipython-input-20-9583cd2767e6>\u001b[0m in \u001b[0;36m<module>\u001b[1;34m\u001b[0m\n\u001b[1;32m----> 1\u001b[1;33m \u001b[0msl\u001b[0m\u001b[1;33m.\u001b[0m\u001b[0madjust_wave\u001b[0m\u001b[1;33m(\u001b[0m\u001b[1;33m)\u001b[0m\u001b[1;33m\u001b[0m\u001b[1;33m\u001b[0m\u001b[0m\n\u001b[0m\u001b[0;32m      2\u001b[0m \u001b[0msl\u001b[0m\u001b[1;33m.\u001b[0m\u001b[0mredefine_route\u001b[0m\u001b[1;33m(\u001b[0m\u001b[1;33m)\u001b[0m\u001b[1;33m\u001b[0m\u001b[1;33m\u001b[0m\u001b[0m\n\u001b[0;32m      3\u001b[0m \u001b[0msl\u001b[0m\u001b[1;33m.\u001b[0m\u001b[0mshuffle_route\u001b[0m\u001b[1;33m(\u001b[0m\u001b[0mavailable_ship\u001b[0m\u001b[1;33m)\u001b[0m\u001b[1;33m\u001b[0m\u001b[1;33m\u001b[0m\u001b[0m\n",
      "\u001b[1;32mC:\\WORK\\Freelancing\\Genetic Algorithm Jaringan Kapal\\Code\\simulation_lib.py\u001b[0m in \u001b[0;36madjust_wave\u001b[1;34m()\u001b[0m\n\u001b[0;32m    203\u001b[0m               \u001b[1;34m'Tual'\u001b[0m \u001b[1;33m:\u001b[0m \u001b[0mfind_movable_port\u001b[0m\u001b[1;33m(\u001b[0m\u001b[1;34m'TL'\u001b[0m\u001b[1;33m,\u001b[0m\u001b[1;34m'Tual'\u001b[0m\u001b[1;33m)\u001b[0m\u001b[1;33m,\u001b[0m\u001b[1;33m\u001b[0m\u001b[1;33m\u001b[0m\u001b[0m\n\u001b[0;32m    204\u001b[0m               'Saumlaki' : find_movable_port('TL','Saumlaki')}\n\u001b[1;32m--> 205\u001b[1;33m     \u001b[0mroute_PR_Ambon\u001b[0m \u001b[1;33m=\u001b[0m \u001b[1;33m[\u001b[0m\u001b[0mchooseport\u001b[0m\u001b[1;33m(\u001b[0m\u001b[1;34m'Ambon'\u001b[0m\u001b[1;33m)\u001b[0m\u001b[1;33m]\u001b[0m\u001b[1;33m+\u001b[0m\u001b[0mfind_movable_port\u001b[0m\u001b[1;33m(\u001b[0m\u001b[1;34m'PR'\u001b[0m\u001b[1;33m,\u001b[0m\u001b[1;34m'Ambon'\u001b[0m\u001b[1;33m)\u001b[0m\u001b[1;33m\u001b[0m\u001b[1;33m\u001b[0m\u001b[0m\n\u001b[0m\u001b[0;32m    206\u001b[0m     \u001b[0mroute_PR_Tual\u001b[0m \u001b[1;33m=\u001b[0m \u001b[1;33m[\u001b[0m\u001b[0mchooseport\u001b[0m\u001b[1;33m(\u001b[0m\u001b[1;34m'Tual'\u001b[0m\u001b[1;33m)\u001b[0m\u001b[1;33m]\u001b[0m\u001b[1;33m+\u001b[0m\u001b[0mfind_movable_port\u001b[0m\u001b[1;33m(\u001b[0m\u001b[1;34m'PR'\u001b[0m\u001b[1;33m,\u001b[0m\u001b[1;34m'Tual'\u001b[0m\u001b[1;33m)\u001b[0m\u001b[1;33m\u001b[0m\u001b[1;33m\u001b[0m\u001b[0m\n\u001b[0;32m    207\u001b[0m     \u001b[0mroute_PR_Saumlaki\u001b[0m \u001b[1;33m=\u001b[0m \u001b[1;33m[\u001b[0m\u001b[0mchooseport\u001b[0m\u001b[1;33m(\u001b[0m\u001b[1;34m'Saumlaki'\u001b[0m\u001b[1;33m)\u001b[0m\u001b[1;33m]\u001b[0m\u001b[1;33m+\u001b[0m\u001b[0mfind_movable_port\u001b[0m\u001b[1;33m(\u001b[0m\u001b[1;34m'PR'\u001b[0m\u001b[1;33m,\u001b[0m\u001b[1;34m'Saumlaki'\u001b[0m\u001b[1;33m)\u001b[0m\u001b[1;33m\u001b[0m\u001b[1;33m\u001b[0m\u001b[0m\n",
      "\u001b[1;31mNameError\u001b[0m: name 'wave_status' is not defined"
     ]
    }
   ],
   "source": [
    "sl.adjust_wave()\n",
    "sl.redefine_route()\n",
    "sl.shuffle_route(available_ship)"
   ]
  },
  {
   "cell_type": "code",
   "execution_count": null,
   "metadata": {},
   "outputs": [],
   "source": []
  }
 ],
 "metadata": {
  "kernelspec": {
   "display_name": "Python 3",
   "language": "python",
   "name": "python3"
  },
  "language_info": {
   "codemirror_mode": {
    "name": "ipython",
    "version": 3
   },
   "file_extension": ".py",
   "mimetype": "text/x-python",
   "name": "python",
   "nbconvert_exporter": "python",
   "pygments_lexer": "ipython3",
   "version": "3.7.3"
  }
 },
 "nbformat": 4,
 "nbformat_minor": 2
}
