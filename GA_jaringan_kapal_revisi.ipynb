{
 "cells": [
  {
   "cell_type": "code",
   "execution_count": 1,
   "metadata": {
    "colab": {},
    "colab_type": "code",
    "id": "tH0kZ5O48p8T"
   },
   "outputs": [],
   "source": [
    "import numpy as np\n",
    "import pandas as pd\n",
    "import random\n",
    "import operator\n",
    "import pandas as pd\n",
    "import matplotlib.pyplot as plt"
   ]
  },
  {
   "cell_type": "markdown",
   "metadata": {
    "colab_type": "text",
    "id": "QKnAN_RSGmDG"
   },
   "source": [
    "# Reading and Preprocessing Data"
   ]
  },
  {
   "cell_type": "code",
   "execution_count": 2,
   "metadata": {
    "colab": {},
    "colab_type": "code",
    "id": "Qms34wpFeIzk"
   },
   "outputs": [],
   "source": [
    "def read_excel(data):\n",
    "    df = pd.read_excel('Data Prep.xlsx', index_col=0, sheet_name=data)\n",
    "    return df\n",
    "\n",
    "def read_excel_revisi(data):\n",
    "    df = pd.read_excel('Data Prep Revisi.xlsx', index_col=0, sheet_name=data)\n",
    "    return df\n",
    "\n",
    "\n",
    "\n",
    "def mirroring(df): \n",
    "    df_c = df.copy()\n",
    "    df = df.fillna(0)\n",
    "    df = df + df.T\n",
    "    df[df_c.isnull() & (df == 0)] = None\n",
    "    return df\n",
    "\n",
    "def set_same_zero(df):\n",
    "    df_column = df.columns.values\n",
    "    df_column = set(df_column)\n",
    "    df_index = df.index.values\n",
    "    df_index = set(df_index)\n",
    "    same_port = df_index & df_column\n",
    "\n",
    "    # making same port data into 0 \n",
    "    for i in same_port:\n",
    "        df[i][i]=0\n",
    "    return df\n"
   ]
  },
  {
   "cell_type": "code",
   "execution_count": 3,
   "metadata": {
    "colab": {},
    "colab_type": "code",
    "id": "L0XiyGHX5W_P"
   },
   "outputs": [],
   "source": [
    "alpha_up = read_excel('alpha_up')\n",
    "\n",
    "GAMMA_TL = read_excel('GAMMA_TL')\n",
    "\n",
    "w = read_excel('w')\n",
    "w = mirroring(w)\n",
    "w = set_same_zero(w)\n",
    "\n",
    "TL_char = read_excel_revisi('TL_char')\n",
    "PL_char = read_excel_revisi('PL_char')\n",
    "PR_char = read_excel_revisi('PR_char')\n",
    "\n",
    "# TL_char = read_excel_revisi('TL_char')\n",
    "# PL_char = read_excel_revisi('PL_char')\n",
    "# PR_char = read_excel_revisi('PR_char')\n",
    "\n",
    "beta_up = read_excel('beta_up')\n",
    "\n",
    "gamma_uu = read_excel('gamma_uu')\n",
    "gamma_uu = mirroring(gamma_uu)\n",
    "gamma_uu = set_same_zero(gamma_uu)\n",
    "\n",
    "\n",
    "SIGMA_PL = read_excel('SIGMA_PL')\n",
    "\n",
    "\n",
    "\n",
    "sigma_pr = read_excel('sigma_pr')\n",
    "\n",
    "PSI_PR = read_excel('PSI_PR')\n",
    "\n",
    "z_pr = read_excel('z_pr')\n",
    "\n",
    "\n",
    "\n",
    "port_item = pd.read_excel('data.xlsx',index_col=0 , sheet_name='Barang')\n",
    "\n",
    "biaya_jarak_teus = read_excel_revisi('Biaya_Jarak_Teus')"
   ]
  },
  {
   "cell_type": "code",
   "execution_count": 4,
   "metadata": {
    "colab": {},
    "colab_type": "code",
    "id": "bVXhDHxtj64u"
   },
   "outputs": [],
   "source": [
    "def fill_mean(df):\n",
    "    df = df.fillna(df.mean().mean())\n",
    "    return df\n",
    "\n",
    "w = fill_mean(w)\n",
    "SIGMA_PL = fill_mean(SIGMA_PL)\n",
    "sigma_pr = fill_mean(sigma_pr)\n",
    "z_pr = fill_mean(z_pr)\n",
    "PSI_PR = fill_mean(PSI_PR)\n",
    "PR_char = fill_mean(PR_char)\n",
    "biaya_jarak_teus = fill_mean(biaya_jarak_teus)"
   ]
  },
  {
   "cell_type": "markdown",
   "metadata": {},
   "source": [
    "# Data Dummy"
   ]
  },
  {
   "cell_type": "code",
   "execution_count": 5,
   "metadata": {},
   "outputs": [],
   "source": [
    "port_item  = pd.read_csv('barang_dummy.csv',index_col=0)"
   ]
  },
  {
   "cell_type": "markdown",
   "metadata": {
    "colab_type": "text",
    "id": "_A7yrzJpGrdg"
   },
   "source": [
    "# Creating Objects and Function"
   ]
  },
  {
   "cell_type": "code",
   "execution_count": 6,
   "metadata": {},
   "outputs": [],
   "source": [
    "def port_items(port):\n",
    "    global port_item\n",
    "    item_list = port_item[port_item['Pelabuhan'] == port]\n",
    "    return item_list"
   ]
  },
  {
   "cell_type": "code",
   "execution_count": 7,
   "metadata": {},
   "outputs": [],
   "source": [
    "def find_distance(port_a,port_b):\n",
    "    distance = np.random.rand()*100 #TODO: FIND DISTANCE\n",
    "    return distance"
   ]
  },
  {
   "cell_type": "code",
   "execution_count": 8,
   "metadata": {},
   "outputs": [],
   "source": [
    "def choose_char(ship_type):\n",
    "    global TL_char, PL_char, PR_char\n",
    "    if ship_type=='TL':\n",
    "        ship_char = TL_char\n",
    "    elif ship_type=='PL':\n",
    "        ship_char = PL_char\n",
    "    elif ship_type=='PR':\n",
    "        ship_char = PR_char\n",
    "    return ship_char"
   ]
  },
  {
   "cell_type": "code",
   "execution_count": 9,
   "metadata": {},
   "outputs": [],
   "source": [
    "def per_item_revenue(data):\n",
    "    distance = find_distance(data['Pelabuhan'],data['Tujuan Pelabuhan'])\n",
    "    Bobot = data['Bobot']\n",
    "    BJT = biaya_jarak_teus[data['Pelabuhan']][data['Tujuan Pelabuhan']]\n",
    "    income = distance*Bobot*BJT\n",
    "    return income"
   ]
  },
  {
   "cell_type": "code",
   "execution_count": 10,
   "metadata": {},
   "outputs": [],
   "source": [
    "def port_revenue(storage_df):\n",
    "    total_income = 0\n",
    "    for i in storage_df.index:\n",
    "        income = per_item_revenue(storage_df.loc[i])\n",
    "        total_income += income\n",
    "    return total_income"
   ]
  },
  {
   "cell_type": "code",
   "execution_count": 11,
   "metadata": {},
   "outputs": [],
   "source": [
    "def item_left(df):\n",
    "    return int(df['Bobot'].sum())"
   ]
  },
  {
   "cell_type": "code",
   "execution_count": 12,
   "metadata": {
    "colab": {},
    "colab_type": "code",
    "id": "KYCBjjj6bGJP"
   },
   "outputs": [],
   "source": [
    "class Port:\n",
    "    def __init__(self, name,port_type):\n",
    "        self.name = name\n",
    "        self.port_type = port_type\n",
    "        self.demand = port_items(name)\n",
    "        \n",
    "    \n",
    "    def __repr__(self):\n",
    "        if self.port_type == 'U':\n",
    "            port_type_name = 'Utama'\n",
    "        elif self.port_type == 'P':\n",
    "            port_type_name = 'Pengumpul'\n",
    "        elif self.port_type == 'R':\n",
    "            port_type_name = 'Pengumpan'\n",
    "        else:\n",
    "            port_type_name = 'NOT DEFINED'\n",
    "\n",
    "        return port_type_name + \":\" + self.name +' demand:'\n",
    "    "
   ]
  },
  {
   "cell_type": "code",
   "execution_count": 13,
   "metadata": {
    "colab": {},
    "colab_type": "code",
    "id": "P4p3wr_Qe3fl"
   },
   "outputs": [],
   "source": [
    "class Ship:\n",
    "    def __init__(self, ship_type, route):\n",
    "        self.ship_type = ship_type\n",
    "        self.route = route\n",
    "        self.route_n = 0\n",
    "        self.revenue = 0\n",
    "        self.current_port = route[0]\n",
    "        self.port_cycle = route\n",
    "\n",
    "        storage_df = pd.DataFrame(columns = ['Pelabuhan','Bobot','Tujuan Pelabuhan'])\n",
    "        storage_df.index.name = 'code barang'\n",
    "        self.storage = storage_df\n",
    "        self.storage_volume = storage_df['Bobot'].sum()\n",
    "        \n",
    "    def update_storage_volume(self):\n",
    "        self.storage_volume = self.storage['Bobot'].sum()\n",
    "    def cycle_list(self):\n",
    "        self.port_cycle = list(self.port_cycle[1:])+[self.port_cycle[0]]\n",
    "    def move_port(self):\n",
    "        self.cycle_list()\n",
    "        self.current_port = self.port_cycle[0]\n",
    "        \n",
    "    def move_storage(self,port):\n",
    "        ship_char = choose_char(self.ship_type)\n",
    "\n",
    "        # ITEM DROP OFF\n",
    "        ship_item = self.storage[self.storage['Tujuan Pelabuhan'] == port.name]\n",
    "        self.storage = pd.concat([self.storage, ship_item]).drop_duplicates(keep=False)\n",
    "        self.update_storage_volume()\n",
    "\n",
    "        #CALCULATING SHIP REVENUE\n",
    "        self.revenue += port_revenue(ship_item)\n",
    "        #CALCULATING SHIP COST        \n",
    "        total_cost_bongkar = 0\n",
    "        total_cost_storage = 0\n",
    "        total_cost_travel_time = 0\n",
    "        cost_bongkar_time = 0\n",
    "        for i in list(ship_item.index):\n",
    "            item = ship_item.loc[i]\n",
    "            Bobot = item['Bobot']\n",
    "            bm_time = ship_char[self.current_port.name ]['bm_time']\n",
    "            C_bm = ship_char[self.current_port.name ]['C_bm']\n",
    "            inventory_cost = ship_char[self.current_port.name ]['inventory_cost']\n",
    "            bm_time = ship_char[self.current_port.name ]['bm_time']\n",
    "            avg_docking_time = ship_char[self.current_port.name ]['avg_docking_time']\n",
    "            distance = find_distance(item['Pelabuhan'],self.current_port.name )\n",
    "            V = ship_char['ship_char']['V']\n",
    "            VC = ship_char['ship_char']['VC']\n",
    "            port_storage_time = ship_char[self.current_port.name ]['port_storage_time']\n",
    "            C_storage = ship_char[self.current_port.name ]['C_storage']\n",
    "\n",
    "            total_cost_bongkar += Bobot*bm_time*C_bm\n",
    "            total_cost_storage += Bobot * port_storage_time * C_storage\n",
    "            total_cost_travel_time += inventory_cost*bm_time*(avg_docking_time*(distance/V))\n",
    "            cost_bongkar_time += inventory_cost * (Bobot/C_bm)\n",
    "\n",
    "        travel_cost = total_cost_bongkar+ total_cost_storage+total_cost_travel_time+cost_bongkar_time\n",
    "        self.revenue -= travel_cost\n",
    "        \n",
    "        print('port_revenue : '+str(port_revenue(ship_item))+ ' travel_cost : ' + str(travel_cost))\n",
    "        \n",
    "\n",
    "        \n",
    "        # ITEM DROP ON\n",
    "        total_cost_bongkar = 0\n",
    "        total_cost_travel_time=0\n",
    "        \n",
    "        for i in self.port_cycle:\n",
    "            port_item = port.demand[port.demand['Tujuan Pelabuhan'] == i.name]\n",
    "            port.demand = pd.concat([port.demand, port_item]).drop_duplicates(keep=False)\n",
    "            self.storage = self.storage.append(port_item)\n",
    "            self.update_storage_volume()\n",
    "            \n",
    "\n",
    "        \n",
    "        \n",
    "        \n",
    "\n",
    "        \n",
    "    \n",
    "    def Z(self,*ports):\n",
    "        if self.ship_type == 'TL':\n",
    "            df = ZTL\n",
    "            string = 'ZTL'\n",
    "            Z = float(df[(df[ports[0].port_type] == ports[0].name) & (df[ports[1].port_type] == ports[1].name)][string].values)\n",
    "\n",
    "        elif self.ship_type == 'PR':\n",
    "            df = ZPR\n",
    "            string = 'ZPR'\n",
    "            Z = float(df[(df[ports[0].port_type] == ports[0].name) & (df[ports[1].port_type] == ports[1].name)][string].values)\n",
    "\n",
    "        elif self.ship_type == 'PL':\n",
    "            Z = float(ZPL[(ZPL['U'] == ports[0].name) & (ZPL['U1'] == ports[1].name) & (ZPL['P'] == ports[2].name)]['ZPL'].values)\n",
    "\n",
    "        else:\n",
    "            print('ship_type not recognize')\n",
    "        return Z\n",
    "      "
   ]
  },
  {
   "cell_type": "code",
   "execution_count": 14,
   "metadata": {},
   "outputs": [],
   "source": [
    "Tanjung_Perak = Port('Tanjung Perak', 'U')\n",
    "Tanjung_Priok = Port('Tanjung Priok', 'U')\n",
    "Saumlaki = Port('Saumlaki', 'P')\n",
    "Dobo = Port('Dobo','P')\n",
    "Namlea = Port('Namlea','P')\n",
    "route = [Tanjung_Perak,Saumlaki,Tanjung_Priok,Dobo,Namlea,Tanjung_Perak]"
   ]
  },
  {
   "cell_type": "code",
   "execution_count": 15,
   "metadata": {
    "colab": {},
    "colab_type": "code",
    "id": "4BeoqCcJgq6i"
   },
   "outputs": [],
   "source": [
    "\n",
    "TL = Ship('TL',route)\n",
    "PL = Ship('PL',route)\n",
    "PR = Ship('PR',route)"
   ]
  },
  {
   "cell_type": "code",
   "execution_count": 16,
   "metadata": {},
   "outputs": [],
   "source": [
    "available_port = [Tanjung_Perak,Saumlaki,Dobo,Namlea]\n",
    "available_ship = [TL,PL,PR]"
   ]
  },
  {
   "cell_type": "code",
   "execution_count": 17,
   "metadata": {},
   "outputs": [],
   "source": [
    "def all_item(available_port,available_ship):\n",
    "    itemdf = pd.DataFrame(columns = ['Pelabuhan','Bobot','Tujuan Pelabuhan'])\n",
    "    itemdf.index.name = 'code barang'\n",
    "    for i in available_port:\n",
    "        itemdf = itemdf.append(i.demand)\n",
    "    for i in available_ship:\n",
    "        itemdf = itemdf.append(i.storage)\n",
    "    return itemdf"
   ]
  },
  {
   "cell_type": "code",
   "execution_count": 18,
   "metadata": {},
   "outputs": [
    {
     "name": "stdout",
     "output_type": "stream",
     "text": [
      "port_revenue : 0 travel_cost : 0\n",
      "************************************************\n",
      "************************************************\n",
      "storage: 1384\n",
      "money: 0\n",
      "************************************************\n",
      "port_revenue : 2980557640.594279 travel_cost : 102060074.80931911\n",
      "************************************************\n",
      "************************************************\n",
      "storage: 2504\n",
      "money: 3518568706.739909\n",
      "************************************************\n",
      "port_revenue : 78144481972.43364 travel_cost : 84740352.23105152\n",
      "************************************************\n",
      "************************************************\n",
      "storage: 2400\n",
      "money: 72265227095.88255\n",
      "************************************************\n",
      "port_revenue : 31830920971.890003 travel_cost : 963102452.1558931\n",
      "************************************************\n",
      "************************************************\n",
      "storage: 2416\n",
      "money: 104850708061.76622\n",
      "************************************************\n",
      "port_revenue : 6878510724.507338 travel_cost : 205702299.38037068\n",
      "************************************************\n",
      "************************************************\n",
      "storage: 3259\n",
      "money: 120519332161.9407\n",
      "************************************************\n",
      "port_revenue : 460898479825.3602 travel_cost : 166595226.34877145\n",
      "************************************************\n",
      "************************************************\n",
      "storage: 1269\n",
      "money: 577685566660.2833\n",
      "************************************************\n",
      "port_revenue : 0 travel_cost : 0\n",
      "************************************************\n",
      "************************************************\n",
      "storage: 1269\n",
      "money: 577685566660.2833\n",
      "************************************************\n",
      "port_revenue : 8249492384.88604 travel_cost : 177505425.7488955\n",
      "************************************************\n",
      "************************************************\n",
      "storage: 1062\n",
      "money: 582559281923.1935\n",
      "************************************************\n",
      "port_revenue : 32491766740.50079 travel_cost : 83926114.61738642\n",
      "************************************************\n",
      "************************************************\n",
      "storage: 0\n",
      "money: 614153732995.205\n",
      "************************************************\n",
      "Ship Income: 614153732995.205\n"
     ]
    }
   ],
   "source": [
    "new_port_item = all_item(available_port,available_ship)\n",
    "remaining = item_left(new_port_item)\n",
    "while remaining>0:\n",
    "    TL.move_storage(TL.current_port)\n",
    "    TL.move_port()\n",
    "    TL.route_n += 1\n",
    "    new_port_item = all_item(available_port,available_ship)\n",
    "    remaining = item_left(new_port_item)\n",
    "#     print('current port: ' + TL.current_port)\n",
    "#     print(TL.storage)\n",
    "#     print('%%%%%%%%%%%%%%%%%%%%%%%%%%%%')\n",
    "#     print('remaining: ' + str(remaining))\n",
    "#     print('%%%%%%%%%%%%%%%%%%%%%%%%%%%%')\n",
    "    print('************************************************')\n",
    "    print('************************************************')\n",
    "    print('storage: ' + str(TL.storage_volume))\n",
    "    print('money: ' + str(TL.revenue))\n",
    "    print('************************************************')\n",
    "    \n",
    "print('Ship Income: ' + str(TL.revenue))"
   ]
  }
 ],
 "metadata": {
  "colab": {
   "collapsed_sections": [],
   "name": "GA_jaringan_kapal_revisi.ipynb",
   "provenance": []
  },
  "kernelspec": {
   "display_name": "Python 3",
   "language": "python",
   "name": "python3"
  },
  "language_info": {
   "codemirror_mode": {
    "name": "ipython",
    "version": 3
   },
   "file_extension": ".py",
   "mimetype": "text/x-python",
   "name": "python",
   "nbconvert_exporter": "python",
   "pygments_lexer": "ipython3",
   "version": "3.7.3"
  }
 },
 "nbformat": 4,
 "nbformat_minor": 1
}
