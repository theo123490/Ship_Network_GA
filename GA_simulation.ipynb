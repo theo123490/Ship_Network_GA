{
 "cells": [
  {
   "cell_type": "code",
   "execution_count": 7,
   "metadata": {},
   "outputs": [],
   "source": [
    "import simulation_lib as sl\n",
    "import numpy as np\n",
    "import pandas as pd\n",
    "import random\n",
    "import operator\n",
    "import pandas as pd\n",
    "import matplotlib.pyplot as plt\n",
    "import re\n",
    "from geopy import distance\n",
    "import time\n",
    "import math"
   ]
  },
  {
   "cell_type": "code",
   "execution_count": 8,
   "metadata": {},
   "outputs": [],
   "source": [
    "alpha_up = sl.read_excel('alpha_up')\n",
    "\n",
    "GAMMA_TL = sl.read_excel('GAMMA_TL')\n",
    "\n",
    "w = sl.read_excel('w')\n",
    "w = sl.mirroring(w)\n",
    "w = sl.set_same_zero(w)\n",
    "\n",
    "TL_char = sl.read_excel_revisi('TL_char')\n",
    "PL_char = sl.read_excel_revisi('PL_char')\n",
    "PR_char = sl.read_excel_revisi('PR_char')\n",
    "\n",
    "beta_up = sl.read_excel('beta_up')\n",
    "\n",
    "gamma_uu = sl.read_excel('gamma_uu')\n",
    "gamma_uu = sl.mirroring(gamma_uu)\n",
    "gamma_uu = sl.set_same_zero(gamma_uu)\n",
    "\n",
    "\n",
    "SIGMA_PL = sl.read_excel('SIGMA_PL')\n",
    "\n",
    "\n",
    "\n",
    "sigma_pr = sl.read_excel('sigma_pr')\n",
    "\n",
    "PSI_PR = sl.read_excel('PSI_PR')\n",
    "\n",
    "z_pr = sl.read_excel('z_pr')\n",
    "\n",
    "special_PR = pd.read_excel('Data Prep Revisi.xlsx', sheet_name='special_PR')\n",
    "special_PR = special_PR.applymap(lambda x: x.strip() if isinstance(x, str) else x)\n",
    "\n",
    "port_item = pd.read_excel('data.xlsx',index_col=0 , sheet_name='Barang')\n",
    "port_item = port_item.applymap(lambda x: x.strip() if isinstance(x, str) else x)\n",
    "\n",
    "biaya_jarak_teus = sl.read_excel_revisi('Biaya_Jarak_Teus')\n",
    "\n",
    "wave_status = pd.read_excel('Data Prep Revisi.xlsx', sheet_name='wave_status')\n",
    "wave_status = wave_status.applymap(lambda x: x.strip() if isinstance(x, str) else x)\n",
    "\n",
    "ports = pd.read_excel('Data Prep Revisi.xlsx', sheet_name='ports')\n",
    "ports = ports.applymap(lambda x: x.strip() if isinstance(x, str) else x)\n"
   ]
  },
  {
   "cell_type": "code",
   "execution_count": null,
   "metadata": {},
   "outputs": [],
   "source": []
  }
 ],
 "metadata": {
  "kernelspec": {
   "display_name": "Python 3",
   "language": "python",
   "name": "python3"
  },
  "language_info": {
   "codemirror_mode": {
    "name": "ipython",
    "version": 3
   },
   "file_extension": ".py",
   "mimetype": "text/x-python",
   "name": "python",
   "nbconvert_exporter": "python",
   "pygments_lexer": "ipython3",
   "version": "3.7.3"
  }
 },
 "nbformat": 4,
 "nbformat_minor": 2
}
