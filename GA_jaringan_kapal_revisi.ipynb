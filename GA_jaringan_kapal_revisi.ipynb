{
 "cells": [
  {
   "cell_type": "markdown",
   "metadata": {},
   "source": [
    "# Importing Library"
   ]
  },
  {
   "cell_type": "code",
   "execution_count": 1,
   "metadata": {
    "colab": {},
    "colab_type": "code",
    "id": "tH0kZ5O48p8T"
   },
   "outputs": [],
   "source": [
    "import numpy as np\n",
    "import pandas as pd\n",
    "import random\n",
    "import operator\n",
    "import pandas as pd\n",
    "import matplotlib.pyplot as plt\n",
    "import re\n",
    "from geopy import distance\n",
    "import time\n",
    "import math"
   ]
  },
  {
   "cell_type": "markdown",
   "metadata": {},
   "source": [
    "# Function and Object"
   ]
  },
  {
   "cell_type": "markdown",
   "metadata": {},
   "source": [
    "## Simulation"
   ]
  },
  {
   "cell_type": "markdown",
   "metadata": {},
   "source": [
    "### Function"
   ]
  },
  {
   "cell_type": "markdown",
   "metadata": {
    "colab_type": "text",
    "id": "QKnAN_RSGmDG"
   },
   "source": [
    "#### Reading and Preprocessing Data"
   ]
  },
  {
   "cell_type": "code",
   "execution_count": 2,
   "metadata": {
    "colab": {},
    "colab_type": "code",
    "id": "Qms34wpFeIzk"
   },
   "outputs": [],
   "source": [
    "def read_excel(data):\n",
    "    df = pd.read_excel('Data Prep.xlsx', index_col=0, sheet_name=data)\n",
    "    df = df.applymap(lambda x: x.strip() if isinstance(x, str) else x)\n",
    "    return df\n",
    "\n",
    "def read_excel_revisi(data):\n",
    "    df = pd.read_excel('Data Prep Revisi.xlsx', index_col=0, sheet_name=data)\n",
    "    df = df.applymap(lambda x: x.strip() if isinstance(x, str) else x)\n",
    "    return df\n",
    "\n",
    "\n",
    "\n",
    "def mirroring(df): \n",
    "    df_c = df.copy()\n",
    "    df = df.fillna(0)\n",
    "    df = df + df.T\n",
    "    df[df_c.isnull() & (df == 0)] = None\n",
    "    return df\n",
    "\n",
    "def set_same_zero(df):\n",
    "    df_column = df.columns.values\n",
    "    df_column = set(df_column)\n",
    "    df_index = df.index.values\n",
    "    df_index = set(df_index)\n",
    "    same_port = df_index & df_column\n",
    "\n",
    "    # making same port data into 0 \n",
    "    for i in same_port:\n",
    "        df[i][i]=0\n",
    "    return df\n",
    "\n",
    "def calculate_availibility(wave_status):\n",
    "    wave_status['PR_availability'] = wave_status['wave_h']<2\n",
    "    return wave_status"
   ]
  },
  {
   "cell_type": "code",
   "execution_count": 3,
   "metadata": {},
   "outputs": [],
   "source": [
    "def fill_mean(df):\n",
    "    df = df.fillna(df.mean().mean())\n",
    "    return df"
   ]
  },
  {
   "cell_type": "markdown",
   "metadata": {},
   "source": [
    "#### Coordinate Data"
   ]
  },
  {
   "cell_type": "code",
   "execution_count": 4,
   "metadata": {},
   "outputs": [],
   "source": [
    "#CONVERT DMS TO DECIMAL\n",
    "def dms2dd(degrees, minutes, seconds, direction):\n",
    "    dd = float(degrees) + float(minutes)/60 + float(seconds)/(60*60);\n",
    "    if direction == 'E' or direction == 'N':\n",
    "        dd *= -1\n",
    "    return dd;\n",
    "\n",
    "def dd2dms(deg):\n",
    "    d = int(deg)\n",
    "    md = abs(deg - d) * 60\n",
    "    m = int(md)\n",
    "    sd = (md - m) * 60\n",
    "    return [d, m, sd]\n",
    "\n",
    "def parse_dms(dms):\n",
    "    parts = re.split('[°\\'\"]+', dms)\n",
    "    lat = dms2dd(parts[0], parts[1], parts[2], parts[3])\n",
    "    return lat"
   ]
  },
  {
   "cell_type": "markdown",
   "metadata": {},
   "source": [
    "#### Choosing and making port"
   ]
  },
  {
   "cell_type": "code",
   "execution_count": 5,
   "metadata": {},
   "outputs": [],
   "source": [
    "def quickport(port_name):\n",
    "    name = ports[ports['port'] == port_name]['port'].values[0]\n",
    "    port_type = ports[ports['port'] == port_name]['port_type'].values[0]\n",
    "    return Port(name,port_type)"
   ]
  },
  {
   "cell_type": "code",
   "execution_count": 6,
   "metadata": {},
   "outputs": [],
   "source": [
    "def chooseport(port_name):\n",
    "    port_name = port_name.rstrip()\n",
    "    port_name = port_name.lstrip()\n",
    "    return ports[ports['port'] == port_name]['port_object'].iloc[0]"
   ]
  },
  {
   "cell_type": "code",
   "execution_count": 7,
   "metadata": {},
   "outputs": [],
   "source": [
    "def chooseship(ship_name):\n",
    "    ship_name = ship_name.rstrip()\n",
    "    ship_name = ship_name.lstrip()\n",
    "    return ship_df[ship_df['Ship_Name'] == ship_name]['object'].iloc[0]"
   ]
  },
  {
   "cell_type": "code",
   "execution_count": 8,
   "metadata": {
    "scrolled": true
   },
   "outputs": [],
   "source": [
    "def add_TL_route(route):\n",
    "    finished = False\n",
    "    i = 0\n",
    "    while finished == False:\n",
    "        current_item = route[i]\n",
    "        if current_item.name in ['Ambon','Saumlaki','Tual']:\n",
    "            k=0\n",
    "            for j in movable_TL[current_item.name]:\n",
    "                k+=1\n",
    "                route.insert(i+k,j)\n",
    "            i+=len(movable_TL[current_item.name])\n",
    "        i+=1\n",
    "        if len(route) <= i:\n",
    "            break\n",
    "    return route"
   ]
  },
  {
   "cell_type": "code",
   "execution_count": 9,
   "metadata": {},
   "outputs": [],
   "source": [
    "def port_items(port):\n",
    "    global all_port_item\n",
    "    item_list = all_port_item[all_port_item['Pelabuhan'] == port]\n",
    "    return item_list"
   ]
  },
  {
   "cell_type": "code",
   "execution_count": 10,
   "metadata": {},
   "outputs": [],
   "source": [
    "def find_distance(port_a,port_b):\n",
    "#     print(port_a)\n",
    "#     print(port_b)\n",
    "    a = port_loc[port_loc['Nama Pelabuhan'] == port_a]\n",
    "    b = port_loc[port_loc['Nama Pelabuhan'] == port_b]\n",
    "#     print(a)\n",
    "#     print(b)\n",
    "#     print(a['Lat_decimal'].values[0])\n",
    "#     print(a['Long_decimal'].values[0])\n",
    "#     print(b['Lat_decimal'].values[0])\n",
    "#     print(b['Long_decimal'].values[0])\n",
    "    dist = distance.distance((a['Lat_decimal'].values[0],a['Long_decimal'].values[0]),(b['Lat_decimal'].values[0],b['Long_decimal'].values[0])).miles\n",
    "    return dist"
   ]
  },
  {
   "cell_type": "code",
   "execution_count": 11,
   "metadata": {},
   "outputs": [],
   "source": [
    "def choose_char(ship_type):\n",
    "    global TL_char, PL_char, PR_char\n",
    "    if ship_type=='TL':\n",
    "        ship_char = TL_char\n",
    "    elif ship_type=='PL':\n",
    "        ship_char = PL_char\n",
    "    elif ship_type=='PR':\n",
    "        ship_char = PR_char\n",
    "    return ship_char"
   ]
  },
  {
   "cell_type": "code",
   "execution_count": 12,
   "metadata": {},
   "outputs": [],
   "source": [
    "def per_item_revenue(data):\n",
    "#     distance = find_distance(data['Pelabuhan'],data['Tujuan Pelabuhan'])\n",
    "    distance = data['Jarak']\n",
    "    Bobot = data['Bobot']\n",
    "    BJT = biaya_jarak_teus[data['Pelabuhan']][data['Tujuan Pelabuhan']]\n",
    "#     BJT = biaya_jarak_teus[data['Pelabuhan Asal']][data['Tujuan Pelabuhan']]\n",
    "    income = distance*Bobot*BJT\n",
    "    return income"
   ]
  },
  {
   "cell_type": "code",
   "execution_count": 13,
   "metadata": {},
   "outputs": [],
   "source": [
    "def port_revenue(storage_df):\n",
    "    total_income = 0\n",
    "    global gl, gli\n",
    "    gl = storage_df\n",
    "    for i in storage_df.index:\n",
    "        gli = i\n",
    "        income = per_item_revenue(storage_df.loc[i])\n",
    "        total_income += income\n",
    "    return total_income"
   ]
  },
  {
   "cell_type": "code",
   "execution_count": 14,
   "metadata": {},
   "outputs": [],
   "source": [
    "def item_left(df):\n",
    "    return int(df['Bobot'].sum())"
   ]
  },
  {
   "cell_type": "code",
   "execution_count": 15,
   "metadata": {},
   "outputs": [],
   "source": [
    "def find_movable_port(ship_type,port_name):\n",
    "    if ship_type == 'TL':\n",
    "        flag = False\n",
    "    elif ship_type == 'PR':\n",
    "        flag = True\n",
    "    else:\n",
    "        added_route = []\n",
    "        return added_route\n",
    "    r_list = special_PR[port_name].dropna().to_list()\n",
    "    route_list = wave_status[wave_status['Port'].isin(r_list)][wave_status['PR_availability'] == flag]['Port'].to_list()\n",
    "    added_route = []\n",
    "    for i in route_list:\n",
    "        added_route.append(chooseport(i))\n",
    "    return added_route"
   ]
  },
  {
   "cell_type": "code",
   "execution_count": 16,
   "metadata": {},
   "outputs": [],
   "source": [
    "def all_item(available_ship,ports):\n",
    "    itemdf = pd.DataFrame(columns = ['Pelabuhan','Bobot','Tujuan Pelabuhan','Jarak'])\n",
    "    itemdf.index.name = 'code barang'\n",
    "    for i in ports['port_object']:\n",
    "        itemdf = itemdf.append(i.demand)\n",
    "    for i in available_ship:\n",
    "        itemdf = itemdf.append(i.storage)\n",
    "    return itemdf"
   ]
  },
  {
   "cell_type": "code",
   "execution_count": 17,
   "metadata": {},
   "outputs": [],
   "source": [
    "def create_route(route_list):\n",
    "    route = []\n",
    "    for i in route_list:\n",
    "        route.append(chooseport(i))\n",
    "    return route\n",
    "    "
   ]
  },
  {
   "cell_type": "code",
   "execution_count": 18,
   "metadata": {},
   "outputs": [],
   "source": [
    "def total_revenue(available_ship):\n",
    "    total_revenue = 0\n",
    "    for i in available_ship:\n",
    "        total_revenue += i.revenue\n",
    "    return total_revenue"
   ]
  },
  {
   "cell_type": "code",
   "execution_count": 19,
   "metadata": {},
   "outputs": [],
   "source": [
    "def get_route(df):\n",
    "    return df['Route'].to_list()"
   ]
  },
  {
   "cell_type": "code",
   "execution_count": 20,
   "metadata": {
    "scrolled": true
   },
   "outputs": [],
   "source": [
    "def create_ship_df(excel = 'Data Ship.xlsx'):\n",
    "    x1 = pd.ExcelFile(excel)\n",
    "    names = x1.sheet_names\n",
    "    ship_df = pd.DataFrame()\n",
    "    for i in names:\n",
    "        ship_data = x1.parse(i)\n",
    "        port_list = create_route(get_route(ship_data))\n",
    "        this_ship_df = pd.DataFrame(data = {'Ship_Name': [ship_data['Ship_Name'].iloc[0]],\n",
    "                                           'Ship_Type': [ship_data['Ship_Type'].iloc[0]],\n",
    "                                           'original_port': [ship_data['original_port'].iloc[0]],\n",
    "                                            'object':[Ship(ship_data['Ship_Type'].iloc[0],\n",
    "                                                             route = port_list,\n",
    "                                                             name=ship_data['Ship_Name'].iloc[0],\n",
    "                                                             initial_port = ship_data['original_port'].iloc[0])]\n",
    "                                           })\n",
    "        ship_df = ship_df.append(this_ship_df)\n",
    "\n",
    "    ship_df = ship_df.reset_index(drop=True)\n",
    "    return ship_df"
   ]
  },
  {
   "cell_type": "code",
   "execution_count": 21,
   "metadata": {},
   "outputs": [],
   "source": [
    "def adjust_wave():\n",
    "    global wave_status,route_PR_Ambon,route_PR_Tual,route_PR_Saumlaki,movable_TL\n",
    "    wave_status['wave_h'] = wave_status['wave_h'].apply(lambda x: random.random()*4)\n",
    "    wave_status = calculate_availibility(wave_status)\n",
    "    movable_TL = {'Ambon' : find_movable_port('TL','Ambon'),\n",
    "              'Tual' : find_movable_port('TL','Tual'),\n",
    "              'Saumlaki' : find_movable_port('TL','Saumlaki')}\n",
    "    route_PR_Ambon = [chooseport('Ambon')]+find_movable_port('PR','Ambon')\n",
    "    route_PR_Tual = [chooseport('Tual')]+find_movable_port('PR','Tual')\n",
    "    route_PR_Saumlaki = [chooseport('Saumlaki')]+find_movable_port('PR','Saumlaki')\n",
    "\n"
   ]
  },
  {
   "cell_type": "code",
   "execution_count": 22,
   "metadata": {},
   "outputs": [],
   "source": [
    "def shuffle_route(available_ship):\n",
    "    for i in available_ship:\n",
    "        random.shuffle(i.route)"
   ]
  },
  {
   "cell_type": "code",
   "execution_count": 23,
   "metadata": {},
   "outputs": [],
   "source": [
    "def initial_port_to_first(available_ship):\n",
    "    for i in available_ship:\n",
    "        init_index = i.route.index(i.initial_port)\n",
    "        intial_port_to_front = i.route.pop(init_index)\n",
    "        i.route.insert(0, intial_port_to_front)"
   ]
  },
  {
   "cell_type": "code",
   "execution_count": 24,
   "metadata": {
    "scrolled": false
   },
   "outputs": [],
   "source": [
    "def redefine_route():\n",
    "    global route_PR_Ambon,route_PR_Tual,route_PR_Saumlaki,ship_df\n",
    "    ship_df[ship_df['Ship_Type'] == 'PR'][ship_df['original_port'] == 'Ambon']['object'].iloc[0].route = route_PR_Ambon\n",
    "    ship_df[ship_df['Ship_Type'] == 'PR'][ship_df['original_port'] == 'Tual']['object'].iloc[0].route = route_PR_Tual\n",
    "    ship_df[ship_df['Ship_Type'] == 'PR'][ship_df['original_port'] == 'Saumlaki']['object'].iloc[0].route = route_PR_Saumlaki\n",
    "\n",
    "    for i in ship_df[ship_df['Ship_Type'] == 'TL']['object'].to_list():\n",
    "        i.route =  add_TL_route(i.route)\n",
    "        \n",
    "                "
   ]
  },
  {
   "cell_type": "code",
   "execution_count": 25,
   "metadata": {},
   "outputs": [],
   "source": [
    "def port_sequence(ship):\n",
    "    if ship.destination_dist<=ship.current_dist:\n",
    "        ship.move_port()\n",
    "#         print('')\n",
    "#         print('')\n",
    "#         print('')\n",
    "#         print('')\n",
    "#         print('$$$$$$$$$$$$$$$$$$$$$$$$$$$$$$$$')\n",
    "#         print('ship_type: '+ship.ship_type)\n",
    "#         print('$$$$$$$$$$$$$$$$$$$$$$$$$$$$$$$$')\n",
    "#         print('BEFORE')\n",
    "#         print('current port:' + ship.current_port.name)\n",
    "#         print('')\n",
    "#         print('PORT DEMAND:')\n",
    "#         print(ship.current_port.demand)\n",
    "#         print('')\n",
    "#         print('SHIP STORAGE:')\n",
    "#         print(ship.storage)\n",
    "        ship.move_storage()\n",
    "#         print('oOoOoOoOoOoOoOoOoOoOoOoO')\n",
    "#         print('AFTER')\n",
    "#         print('current port:' + ship.current_port.name)\n",
    "#         print('')\n",
    "#         print('PORT DEMAND:')\n",
    "#         print(ship.current_port.demand)\n",
    "#         print('')\n",
    "#         print('SHIP STORAGE:')\n",
    "#         print(ship.storage)\n",
    "#         print('$$$$$$$$$$$$$$$$$$$$$$$$$$$$$$$$')\n",
    "        ship.find_destination()\n",
    "        ship.destination_dist = find_distance(ship.destination.name, ship.current_port.name)\n",
    "        ship.current_dist = 0\n",
    "    elif ship.destination_dist>ship.current_dist:\n",
    "        ship.storage['Jarak'] = ship.storage['Jarak']+ship.speed\n",
    "        ship.current_dist+=ship.speed\n",
    "\n",
    "        \n"
   ]
  },
  {
   "cell_type": "code",
   "execution_count": 26,
   "metadata": {
    "scrolled": true
   },
   "outputs": [],
   "source": [
    "def run_simulation():\n",
    "    new_port_item = all_item(available_ship,ports)\n",
    "    remaining = item_left(new_port_item)\n",
    "    i=0\n",
    "    remaining_history = []\n",
    "    revenue_history = []\n",
    "    tic = time.clock()\n",
    "    while remaining>0:\n",
    "        i +=1\n",
    "        for ship in available_ship:\n",
    "            port_sequence(ship)\n",
    "        new_port_item = all_item(available_ship,ports)\n",
    "        remaining = item_left(new_port_item)\n",
    "        revenue = total_revenue(available_ship)\n",
    "        print('************************************************')\n",
    "        print('revenue: {}'.format(revenue))\n",
    "        print('remaining: ' + str(remaining))\n",
    "        print('iteration: ' + str(i))\n",
    "        print('************************************************')\n",
    "        remaining_history.append(remaining)\n",
    "        revenue_history.append(revenue)\n",
    "        if i>=7000:\n",
    "            break\n",
    "    toc = time.clock()\n",
    "    process_time = toc-tic\n",
    "    return remaining_history,revenue_history,process_time\n"
   ]
  },
  {
   "cell_type": "code",
   "execution_count": 27,
   "metadata": {
    "scrolled": false
   },
   "outputs": [],
   "source": [
    "def analyse_simulation(remaining_history,revenue_history):\n",
    "    plt.plot(remaining_history)\n",
    "    plt.show()\n",
    "    plt.plot(revenue_history)\n",
    "    plt.show()\n",
    "    print('Total Revenue: {}'.format(revenue_history[-1]))"
   ]
  },
  {
   "cell_type": "code",
   "execution_count": 28,
   "metadata": {},
   "outputs": [],
   "source": [
    "def create_ports_object(ports):\n",
    "    ports['port_object'] = ports['port'].apply(lambda x: quickport(x))\n",
    "    return ports"
   ]
  },
  {
   "cell_type": "code",
   "execution_count": 29,
   "metadata": {},
   "outputs": [],
   "source": [
    "def refill_ports(ports):\n",
    "    for i in ports['port_object'].to_list():\n",
    "        i.demand = port_items(i.name)"
   ]
  },
  {
   "cell_type": "code",
   "execution_count": 30,
   "metadata": {},
   "outputs": [],
   "source": [
    "def reset_revenue(available_ship):\n",
    "    for i in available_ship:\n",
    "        i.revenue = 0\n",
    "    return available_ship"
   ]
  },
  {
   "cell_type": "markdown",
   "metadata": {},
   "source": [
    "### CLASSES"
   ]
  },
  {
   "cell_type": "code",
   "execution_count": 31,
   "metadata": {
    "colab": {},
    "colab_type": "code",
    "id": "KYCBjjj6bGJP"
   },
   "outputs": [],
   "source": [
    "class Port:\n",
    "    def __init__(self, name,port_type):\n",
    "        self.name = name\n",
    "        self.port_type = port_type\n",
    "        self.demand = port_items(name)\n",
    "        \n",
    "    \n",
    "    def __repr__(self):\n",
    "        if self.port_type == 'U':\n",
    "            port_type_name = 'Utama'\n",
    "        elif self.port_type == 'P':\n",
    "            port_type_name = 'Pengumpul'\n",
    "        elif self.port_type == 'R':\n",
    "            port_type_name = 'Pengumpan'\n",
    "        else:\n",
    "            port_type_name = 'NOT DEFINED'\n",
    "\n",
    "        return port_type_name + \":\" + self.name\n",
    "    "
   ]
  },
  {
   "cell_type": "code",
   "execution_count": 32,
   "metadata": {
    "colab": {},
    "colab_type": "code",
    "id": "P4p3wr_Qe3fl"
   },
   "outputs": [],
   "source": [
    "class Ship:\n",
    "    def __init__(self, ship_type, route=[], name='No Name',initial_port = False,time_skip = 6):\n",
    "        self.name = name\n",
    "        self.ship_type = ship_type\n",
    "        self.revenue = 0\n",
    "        self.route = route\n",
    "        self.current_port = route[0]\n",
    "        self.destination = route[0]\n",
    "        if initial_port == False:\n",
    "            self.initial_port = route[0]\n",
    "        else:\n",
    "            self.initial_port = chooseport(initial_port)\n",
    "            \n",
    "        self.port_cycle = route\n",
    "        self.route_list = []\n",
    "        self.ship_char = choose_char(self.ship_type)\n",
    "        self.destination_dist = 0\n",
    "        self.current_dist = 1000\n",
    "        self.speed = self.ship_char['ship_char']['V']*time_skip\n",
    "        self.max = self.ship_char['ship_char']['max_voyage']/(24/time_skip)\n",
    "        for i in route:\n",
    "            self.route_list.append(i.name)\n",
    "\n",
    "        storage_df = pd.DataFrame(columns = ['Pelabuhan','Bobot','Tujuan Pelabuhan','Jarak'])\n",
    "        storage_df.index.name = 'code barang'\n",
    "        self.storage = storage_df\n",
    "        self.storage_volume = storage_df['Bobot'].sum()\n",
    "        \n",
    "        #Capacity\n",
    "        self.capacity = self.ship_char['ship_char']['VC']\n",
    "        \n",
    "        \n",
    "        #special route for TL depending on wave height\n",
    "        if self.ship_type == 'TL':\n",
    "            self.TL_Special_PR = list(set(route).intersection(set(special_PR.columns))) #TODO : CHECK PR NOT IN AND IN BASED ON WAVE\n",
    "            portcycle_name =[]\n",
    "            for i in self.port_cycle:\n",
    "                portcycle_name.append(i.name)\n",
    "            P_port_PR_transitport =  list(set(portcycle_name).intersection(set(special_PR.columns)))\n",
    "            P_port_non_PR_transitport = [x for x in special_PR.columns if x not in P_port_PR_transitport]\n",
    "            \n",
    "            self.PR_transitport = []\n",
    "            self.non_PR_transitport = []\n",
    "\n",
    "            for i in P_port_PR_transitport:\n",
    "                self.PR_transitport.extend(special_PR[i].dropna().to_list())\n",
    "            for i in P_port_non_PR_transitport:\n",
    "                self.non_PR_transitport.extend(special_PR[i].dropna().to_list())\n",
    "\n",
    "    def update_storage_volume(self):\n",
    "        self.storage_volume = self.storage['Bobot'].sum()\n",
    "\n",
    "    def cycle_list(self):\n",
    "        self.port_cycle = list(self.port_cycle[1:])+[self.port_cycle[0]]\n",
    "\n",
    "    def find_destination(self):\n",
    "        pick_item = False\n",
    "\n",
    "        i = 0\n",
    "        while pick_item == False:\n",
    "            if i < len(self.port_cycle):\n",
    "                pick_item = self.simulate_moving()\n",
    "                if pick_item == False:\n",
    "                    self.cycle_list()\n",
    "            else:\n",
    "                return\n",
    "            i += 1\n",
    "        self.cycle_list()\n",
    "        self.destination = self.port_cycle[0]\n",
    "        return self.destination\n",
    "    \n",
    "    def move_port(self):\n",
    "        self.current_port = self.port_cycle[0]\n",
    "\n",
    "    def cost_per_item(self,item ):\n",
    "        Bobot = item['Bobot']\n",
    "        bm_time = self.ship_char[self.current_port.name ]['bm_time']\n",
    "        C_bm = self.ship_char[self.current_port.name ]['C_bm']\n",
    "        inventory_cost = self.ship_char[self.current_port.name ]['inventory_cost']\n",
    "        bm_time = self.ship_char[self.current_port.name ]['bm_time']\n",
    "        avg_docking_time = self.ship_char[self.current_port.name ]['avg_docking_time']\n",
    "#         distance = find_distance(item['Pelabuhan'],self.current_port.name )\n",
    "        distance = item['Jarak']\n",
    "        V = self.ship_char['ship_char']['V']\n",
    "        VC = self.ship_char['ship_char']['VC']\n",
    "        port_storage_time = self.ship_char[self.current_port.name ]['port_storage_time']\n",
    "        C_storage = self.ship_char[self.current_port.name ]['C_storage']\n",
    "\n",
    "        total_cost_bongkar = Bobot*bm_time*C_bm\n",
    "        total_cost_storage = Bobot * port_storage_time * C_storage\n",
    "        total_cost_travel_time = inventory_cost*bm_time*(avg_docking_time*(distance/V))\n",
    "        cost_bongkar_time = inventory_cost * (Bobot/C_bm)\n",
    "\n",
    "        travel_cost = total_cost_bongkar + total_cost_storage+total_cost_travel_time+cost_bongkar_time\n",
    "        \n",
    "#         print('&&&&&&&&&&&&&&&&&&&&&&&&&&&&&&&&&&&&&&&&&&&&&&&')        \n",
    "#         print('item: '+str(item))\n",
    "#         print('bm time:'+str(bm_time))\n",
    "#         print('C_bm:'+str(C_bm))\n",
    "#         print('inventory_cost:'+str(inventory_cost))\n",
    "#         print('bm_time:'+str(bm_time))\n",
    "#         print('avg_docking_time:'+str(avg_docking_time))\n",
    "#         print('distance:'+str(distance))\n",
    "#         print('V:'+str(V))\n",
    "#         print('VC:'+str(VC))\n",
    "#         print('port_storage_time:'+str(port_storage_time))\n",
    "#         print('C_storage:'+str(C_storage))\n",
    "#         print('bongkar: {} storage: {} travelT: {} btime: {}'.format(total_cost_bongkar,total_cost_storage,total_cost_travel_time,cost_bongkar_time))\n",
    "#         print('&&&&&&&&&&&&&&&&&&&&&&&&&&&&&&&&&&&&&&&&&&&&&&&')\n",
    "        \n",
    "        return travel_cost, [total_cost_bongkar, total_cost_storage, total_cost_travel_time, cost_bongkar_time]\n",
    "    \n",
    "    def drop_off_item(self,tujuan_pelabuhan,finish_shipping = True):\n",
    "        ship_item = self.storage[self.storage['Tujuan Pelabuhan'] == tujuan_pelabuhan]\n",
    "        self.storage = pd.concat([self.storage, ship_item]).drop_duplicates(keep=False)\n",
    "        \n",
    "        if finish_shipping == False:\n",
    "            ship_item['Pelabuhan'] = self.current_port.name\n",
    "            self.current_port.demand = self.current_port.demand.append(ship_item)\n",
    "#         elif finish_shipping == True:\n",
    "#             self.revenue += port_revenue(ship_item)\n",
    "        \n",
    "        #CALCULATING SHIP COST        \n",
    "        total_cost_bongkar = 0\n",
    "        total_cost_storage = 0\n",
    "        total_cost_travel_time = 0\n",
    "        cost_bongkar_time = 0\n",
    "        travel_cost = 0\n",
    "        for i in list(ship_item.index):\n",
    "            item = ship_item.loc[i]\n",
    "            travel_cost,_ = self.cost_per_item(item)\n",
    "        self.revenue -= travel_cost\n",
    "        self.revenue += port_revenue(ship_item)\n",
    "\n",
    "        self.update_storage_volume()\n",
    "            \n",
    "        return ship_item\n",
    "    \n",
    "    def pick_up_each(self,port_item):\n",
    "        for i in port_item.index:\n",
    "            current_port_item = port_item.loc[i]\n",
    "            bobot_item = current_port_item['Bobot']\n",
    "            if (self.storage_volume + bobot_item)<=self.capacity:\n",
    "                bobot_item_df = pd.DataFrame(current_port_item).T\n",
    "                self.current_port.demand = pd.concat([self.current_port.demand, bobot_item_df]).drop_duplicates(keep=False)\n",
    "                bobot_item_df['Jarak'] = 0\n",
    "                self.storage = self.storage.append(bobot_item_df)\n",
    "                self.update_storage_volume()    \n",
    "    \n",
    "    def pick_up_port(self,tujuan_pelabuhan):\n",
    "        port_item = self.current_port.demand[self.current_port.demand['Tujuan Pelabuhan'] == tujuan_pelabuhan]\n",
    "        self.pick_up_each(port_item)\n",
    "\n",
    "    def check_item(self,tujuan_pelabuhan,pick_or_drop,pick_item=False):\n",
    "        if pick_item == True:\n",
    "            return pick_item\n",
    "        else:\n",
    "            if pick_or_drop == 'drop':\n",
    "                ship_item = self.storage[self.storage['Tujuan Pelabuhan'] == tujuan_pelabuhan]\n",
    "                pick_item = not(ship_item.empty)\n",
    "            elif pick_or_drop == 'pick':\n",
    "                port_item = self.port_cycle[1].demand[self.port_cycle[1].demand['Tujuan Pelabuhan'] == tujuan_pelabuhan]\n",
    "                pick_item = not(port_item.empty)\n",
    "            return pick_item\n",
    "    \n",
    "    def simulate_moving(self):\n",
    "        # ITEM DROP OFF--------------------------------------------------------\n",
    "        simulated_port = self.port_cycle[1]\n",
    "        # ALL ITEM WITH PORT DESTINATION AT CURRENT PORT\n",
    "        pick_item = False\n",
    "        pick_item = self.check_item(simulated_port.name,'drop',pick_item=pick_item)\n",
    "\n",
    "        #SPECIAL DROP OFF ITEM\n",
    "        #FOR PR\n",
    "        if self.ship_type == 'PR':\n",
    "            if simulated_port.name not in R_list:\n",
    "                for i in ports[~ports['port'].isin(self.route)]['port'].to_list():\n",
    "                    pick_item = self.check_item(i,'drop',pick_item=pick_item)\n",
    "        \n",
    "\n",
    "        #for Tanjung Perak and Makassar\n",
    "        if simulated_port.name in ['Tanjung Perak','Makassar']:            \n",
    "            #FOR TL\n",
    "            if self.ship_type == 'TL':\n",
    "                pick_item = self.check_item('Tanjung Priok','drop',pick_item=pick_item)\n",
    "                P_non_in_route = [x for x in ports[ports['port_type'] == 'P']['port'].to_list() if x not in self.route]\n",
    "                U_non_in_route = [x for x in ports[ports['port_type'] == 'U']['port'].to_list() if x not in self.route]\n",
    "                for i in self.non_PR_transitport:\n",
    "                    pick_item = self.check_item(i,'drop',pick_item=pick_item)\n",
    "                for i in P_non_in_route:\n",
    "                    pick_item = self.check_item(i,'drop',pick_item=pick_item)\n",
    "                for i in U_non_in_route:\n",
    "                    pick_item = self.check_item(i,'drop',pick_item=pick_item)\n",
    "            #FOR PL\n",
    "            elif self.ship_type == 'PL':\n",
    "                not_in_route = [x for x in ports['port'].to_list() if x not in self.route]\n",
    "                for i in not_in_route:\n",
    "                    pick_item = self.check_item(i,'drop',pick_item=pick_item)\n",
    "\n",
    "       #for Special PR (Ambon, Tual, and Saumlaki)\n",
    "        if simulated_port.name in special_PR.columns:\n",
    "            #FOR PL\n",
    "            if self.ship_type == 'PL':\n",
    "                current_port_R_ports = special_PR[simulated_port.name].dropna().to_list()                \n",
    "                for i in current_port_R_ports:\n",
    "                    pick_item = self.check_item(i,'drop',pick_item=pick_item)\n",
    "            #FOR TL\n",
    "            elif self.ship_type == 'TL':\n",
    "                current_r = find_movable_port('PR',simulated_port.name)\n",
    "                for i in current_r:\n",
    "                    pick_item = self.check_item(i.name,'drop',pick_item=pick_item)\n",
    "        # ITEM DROP OFF--------------------------------------------------------\n",
    "\n",
    "        \n",
    "        \n",
    "        \n",
    "        # ITEM PICK UP--------------------------------------------------------\n",
    "        \n",
    "        #PICK UP IN PORT CYCLE\n",
    "        for i in self.port_cycle:\n",
    "            pick_item = self.check_item(i.name,'pick',pick_item=pick_item)\n",
    "\n",
    "        #Take for Tanjung Priok\n",
    "        if self.ship_type == 'TL':\n",
    "            if self.current_port.name not in ['Tanjung Perak','Makassar']:\n",
    "                self.check_item('Tanjung Priok','pick',pick_item=pick_item)\n",
    "        if self.ship_type == 'PR':\n",
    "            if self.current_port.name not in special_PR.columns:\n",
    "                self.check_item('Tanjung Priok','pick',pick_item=pick_item)\n",
    "            \n",
    "        #SPECIAL FOR PL SHIP: \n",
    "        if self.ship_type == 'PL':\n",
    "            #TAKE EVERYTHING with TANJUNG PRIOK\n",
    "            self.pick_up_port('Tanjung Priok')\n",
    "            if simulated_port.name not in special_PR.columns:\n",
    "                for i in R_list:\n",
    "                    pick_item = self.check_item(i,'pick',pick_item=pick_item)\n",
    "\n",
    "            #TAKE EVERYTHING in BANDA NEIRA\n",
    "            if self.current_port.name == 'Banda Neira':\n",
    "                port_item = self.current_port.demand\n",
    "                if pick_item == True:\n",
    "                    pass\n",
    "                else:\n",
    "                    pick_item = not(port_item.empty)\n",
    "                    \n",
    "#         P not in special P\n",
    "        if ((simulated_port.port_type == 'P') and (simulated_port.name not in special_PR.columns)):\n",
    "            if self.ship_type == 'TL':\n",
    "                for i in self.PR_transitport:\n",
    "                    pick_item = self.check_item(i,'pick',pick_item=pick_item)\n",
    "\n",
    "\n",
    "        #for Tanjung Priok\n",
    "        if simulated_port.name == 'Tanjung Priok':\n",
    "            if self.ship_type == 'PL':\n",
    "                port_item = simulated_port.demand\n",
    "                pick_item = self.check_item(i,'pick',pick_item=pick_item)\n",
    "                \n",
    "            \n",
    "        #for Tanjung Perak and Makassar\n",
    "        if simulated_port.name in ['Tanjung Perak','Makassar']:\n",
    "            #FOR TL\n",
    "            if self.ship_type == 'TL':\n",
    "                for i in list(set(special_PR.columns) & set(self.route_list)):\n",
    "                    i_r_list = find_movable_port(self.ship_type,i)\n",
    "                    for j in i_r_list:\n",
    "                        pick_item = self.check_item(j,'pick',pick_item=pick_item)     \n",
    "            elif self.ship_type == 'PL':\n",
    "                pick_item = self.check_item(i,'pick',pick_item=pick_item)\n",
    "\n",
    "        #for Special PR\n",
    "        if simulated_port.name in special_PR.columns:\n",
    "            #FOR TL\n",
    "            if self.ship_type == 'TL':\n",
    "                port_PR_ports = find_movable_port('TL',simulated_port.name)\n",
    "                special_pr_ports_list = special_PR.columns.to_list()\n",
    "                special_pr_ports_list.remove(simulated_port.name)\n",
    "                other_r_list = []\n",
    "                for i in special_pr_ports_list:\n",
    "                    other_r_list.extend(special_PR[i].dropna().to_list())\n",
    "                port_PR_ports.extend(other_r_list)\n",
    "                for i in port_PR_ports:\n",
    "                    pick_item = self.check_item(i,'pick',pick_item=pick_item)\n",
    "                \n",
    "            #FOR PR\n",
    "            elif self.ship_type == 'PR':\n",
    "                port_PR_ports = find_movable_port('PR',simulated_port.name)\n",
    "                for i in port_PR_ports:\n",
    "                    pick_item = self.check_item(i,'pick',pick_item=pick_item)\n",
    "\n",
    "        #for R\n",
    "        if simulated_port.name in R_list+['Banda Neira']:\n",
    "            port_item = simulated_port.demand\n",
    "            pick_item = self.check_item(i,'pick',pick_item=pick_item) #TODO \n",
    "\n",
    "            if pick_item == True:\n",
    "                pass\n",
    "            else:\n",
    "                pick_item = not(port_item.empty)\n",
    "\n",
    "            \n",
    "        # ITEM PICK UP--------------------------------------------------------\n",
    "        return pick_item\n",
    "    \n",
    "    def move_storage(self):\n",
    "        # ITEM DROP OFF--------------------------------------------------------\n",
    "        \n",
    "        # ALL ITEM WITH PORT DESTINATION AT CURRENT PORT\n",
    "        self.drop_off_item(self.current_port.name)\n",
    "        \n",
    "        #SPECIAL DROP OFF ITEM\n",
    "        #FOR PR\n",
    "        if self.ship_type == 'PR':\n",
    "            if self.current_port.name not in R_list:\n",
    "                for i in ports[~ports['port'].isin(self.route)]['port'].to_list():\n",
    "                    self.drop_off_item(i,finish_shipping = False)\n",
    "        \n",
    "        #for Tanjung Perak and Makassar\n",
    "        if self.current_port.name in ['Tanjung Perak','Makassar']:\n",
    "            \n",
    "            #FOR TL\n",
    "            if self.ship_type == 'TL':\n",
    "                self.drop_off_item('Tanjung Priok',finish_shipping = False )\n",
    "                P_non_in_route = [x for x in ports[ports['port_type'] == 'P']['port'].to_list() if x not in self.route]\n",
    "                U_non_in_route = [x for x in ports[ports['port_type'] == 'U']['port'].to_list() if x not in self.route]\n",
    "                for i in self.non_PR_transitport:\n",
    "                    self.drop_off_item(i,finish_shipping = False )\n",
    "                for i in P_non_in_route:\n",
    "                    self.drop_off_item(i,finish_shipping = False)\n",
    "                for i in U_non_in_route:\n",
    "                    self.drop_off_item(i,finish_shipping = False)\n",
    "\n",
    "            #FOR PL\n",
    "            elif self.ship_type == 'PL':\n",
    "                not_in_route = [x for x in ports['port'].to_list() if x not in self.route]\n",
    "                for i in not_in_route:\n",
    "                    self.drop_off_item(i,finish_shipping = False )\n",
    "\n",
    "       #for Special PR (Ambon, Tual, and Saumlaki)\n",
    "        if self.current_port.name in special_PR.columns:\n",
    "            #FOR PL\n",
    "            if self.ship_type == 'PL':\n",
    "                current_port_R_ports = special_PR[self.current_port.name].dropna().to_list() \n",
    "                for i in current_port_R_ports:\n",
    "                    self.drop_off_item(i.strip(),finish_shipping = False)\n",
    "            #FOR TL\n",
    "            elif self.ship_type == 'TL':\n",
    "                current_r = find_movable_port('PR',self.current_port.name)\n",
    "                for i in current_r:\n",
    "                    self.drop_off_item(i.name,finish_shipping = False)\n",
    "                    \n",
    "        self.current_port.demand = self.current_port.demand.loc[~self.current_port.demand.index.duplicated(keep='first')]\n",
    "        # ITEM DROP OFF--------------------------------------------------------\n",
    "\n",
    "        \n",
    "        \n",
    "        \n",
    "        # ITEM PICK UP--------------------------------------------------------\n",
    "        \n",
    "        #PICK UP IN PORT CYCLE\n",
    "        for i in self.port_cycle:\n",
    "            self.pick_up_port(i.name)\n",
    "        \n",
    "        #Take for Tanjung Priok\n",
    "        if self.ship_type == 'TL':\n",
    "            if self.current_port.name not in ['Tanjung Perak','Makassar']:\n",
    "                self.pick_up_port('Tanjung Priok')\n",
    "        if self.ship_type == 'PR':\n",
    "            if self.current_port.name not in special_PR.columns:\n",
    "                self.pick_up_port('Tanjung Priok')\n",
    "            \n",
    "        #SPECIAL FOR PL SHIP: \n",
    "        if self.ship_type == 'PL':\n",
    "            #TAKE EVERYTHING with TANJUNG PRIOK\n",
    "            self.pick_up_port('Tanjung Priok')\n",
    "            if self.current_port.name not in special_PR.columns:\n",
    "                for i in R_list:\n",
    "                    self.pick_up_port(i)\n",
    "                    \n",
    "            #TAKE EVERYTHING in BANDA NEIRA\n",
    "            if self.current_port.name == 'Banda Neira':\n",
    "                port_item = self.current_port.demand\n",
    "                self.pick_up_each(port_item)   \n",
    "                \n",
    "#         P not in special P\n",
    "        if ((self.current_port.port_type == 'P') and (self.current_port.name not in special_PR.columns)):\n",
    "            if self.ship_type == 'TL':\n",
    "                for i in self.PR_transitport:\n",
    "                    self.pick_up_port(i)\n",
    "\n",
    "\n",
    "        #for Tanjung Priok\n",
    "        if self.current_port.name == 'Tanjung Priok':\n",
    "            if self.ship_type == 'PL':\n",
    "                port_item = self.current_port.demand\n",
    "                self.pick_up_each(port_item)\n",
    "                \n",
    "            \n",
    "        #for Tanjung Perak and Makassar\n",
    "        if self.current_port.name in ['Tanjung Perak','Makassar']:\n",
    "            #FOR TL\n",
    "            if self.ship_type == 'TL':\n",
    "                for i in list(set(special_PR.columns) & set(self.route_list)):\n",
    "                    i_r_list = find_movable_port(self.ship_type,i)\n",
    "                    for j in i_r_list:\n",
    "                        self.pick_up_port(j)     \n",
    "            elif self.ship_type == 'PL':\n",
    "                self.pick_up_port('Tanjung Priok')\n",
    "\n",
    "        #for Special PR\n",
    "        if self.current_port.name in special_PR.columns:\n",
    "            #FOR TL\n",
    "            if self.ship_type == 'TL':\n",
    "                port_PR_ports = find_movable_port('TL',self.current_port.name)\n",
    "                special_pr_ports_list = special_PR.columns.to_list()\n",
    "                special_pr_ports_list.remove(self.current_port.name)\n",
    "                other_r_list = []\n",
    "                for i in special_pr_ports_list:\n",
    "                    other_r_list.extend(special_PR[i].dropna().to_list())\n",
    "                port_PR_ports.extend(other_r_list)\n",
    "                for i in port_PR_ports:\n",
    "                    self.pick_up_port(i)\n",
    "                \n",
    "            #FOR PR\n",
    "            elif self.ship_type == 'PR':\n",
    "                port_PR_ports = find_movable_port('PR',self.current_port.name)\n",
    "                for i in port_PR_ports:\n",
    "                    self.pick_up_port(i)\n",
    "\n",
    "        #for R\n",
    "        if self.current_port.name in R_list+['Banda Neira']:\n",
    "            port_item = self.current_port.demand\n",
    "            self.pick_up_each(port_item)\n",
    "\n",
    "        self.storage = self.storage.loc[~self.storage.index.duplicated(keep='first')]\n",
    "        self.storage['Jarak'] = self.storage['Jarak'].fillna(0)\n",
    "\n",
    "        # ITEM PICK UP--------------------------------------------------------\n",
    "      \n",
    "    \n",
    "    \n",
    "    \n",
    "    def __repr__(self):\n",
    "        return self.name +': '+ self.ship_type"
   ]
  },
  {
   "cell_type": "markdown",
   "metadata": {},
   "source": [
    "# CODE PART"
   ]
  },
  {
   "cell_type": "markdown",
   "metadata": {},
   "source": [
    "## Reading Data"
   ]
  },
  {
   "cell_type": "markdown",
   "metadata": {},
   "source": [
    "### Basic Characteristic Data"
   ]
  },
  {
   "cell_type": "code",
   "execution_count": 33,
   "metadata": {
    "colab": {},
    "colab_type": "code",
    "id": "L0XiyGHX5W_P"
   },
   "outputs": [],
   "source": [
    "TL_char = read_excel_revisi('TL_char')\n",
    "PL_char = read_excel_revisi('PL_char')\n",
    "PR_char = read_excel_revisi('PR_char')\n",
    "\n",
    "special_PR = pd.read_excel('Data Prep Revisi.xlsx', sheet_name='special_PR')\n",
    "special_PR = special_PR.applymap(lambda x: x.strip() if isinstance(x, str) else x)\n",
    "\n",
    "port_item = pd.read_excel('data.xlsx',index_col=0 , sheet_name='Barang')\n",
    "port_item = port_item.applymap(lambda x: x.strip() if isinstance(x, str) else x)\n",
    "\n",
    "biaya_jarak_teus = read_excel_revisi('Biaya_Jarak_Teus')\n",
    "\n",
    "wave_status = pd.read_excel('Data Prep Revisi.xlsx', sheet_name='wave_status')\n",
    "wave_status = wave_status.applymap(lambda x: x.strip() if isinstance(x, str) else x)\n",
    "\n",
    "ports = pd.read_excel('Data Prep Revisi.xlsx', sheet_name='ports')\n",
    "ports = ports.applymap(lambda x: x.strip() if isinstance(x, str) else x)\n"
   ]
  },
  {
   "cell_type": "markdown",
   "metadata": {},
   "source": [
    "### Port Data"
   ]
  },
  {
   "cell_type": "code",
   "execution_count": 34,
   "metadata": {},
   "outputs": [],
   "source": [
    "R_list = ports[ports['port_type'] == 'R']['port'].to_list()\n",
    "P_list = ports[ports['port_type'] == 'P']['port'].to_list()\n",
    "PL_P_list = ['Banda Neira','Dobo','Ambon','Tual','Saumlaki']\n",
    "PL_non_P_list = list(set(P_list)-set(PL_P_list))"
   ]
  },
  {
   "cell_type": "code",
   "execution_count": 35,
   "metadata": {},
   "outputs": [],
   "source": [
    "special_P_port = special_PR.columns.to_list()\n",
    "wave_status = calculate_availibility(wave_status)"
   ]
  },
  {
   "cell_type": "code",
   "execution_count": 36,
   "metadata": {},
   "outputs": [],
   "source": [
    "Ambon_R_list = special_PR['Ambon'].dropna().to_list()\n",
    "Tual_R_list = special_PR['Tual'].dropna().to_list()\n",
    "Saumlaki_R_list = special_PR['Saumlaki'].dropna().to_list()"
   ]
  },
  {
   "cell_type": "markdown",
   "metadata": {},
   "source": [
    "#### port location data"
   ]
  },
  {
   "cell_type": "code",
   "execution_count": 37,
   "metadata": {},
   "outputs": [],
   "source": [
    "port_loc = pd.read_csv('port_coordinates.csv')\n",
    "port_loc['Lat_decimal'] = port_loc['Latitude'].apply(parse_dms)\n",
    "port_loc['Long_decimal'] = port_loc['Longitude'].apply(parse_dms)"
   ]
  },
  {
   "cell_type": "markdown",
   "metadata": {},
   "source": [
    "#### Filling Data with Dummy Data"
   ]
  },
  {
   "cell_type": "code",
   "execution_count": 38,
   "metadata": {
    "colab": {},
    "colab_type": "code",
    "id": "bVXhDHxtj64u"
   },
   "outputs": [],
   "source": [
    "biaya_jarak_teus = fill_mean(biaya_jarak_teus)\n",
    "TL_char = fill_mean(TL_char)\n",
    "PL_char = fill_mean(PL_char)\n",
    "PR_char = fill_mean(PR_char)"
   ]
  },
  {
   "cell_type": "markdown",
   "metadata": {},
   "source": [
    "#### Data Dummy"
   ]
  },
  {
   "cell_type": "code",
   "execution_count": 39,
   "metadata": {},
   "outputs": [],
   "source": [
    "# all_port_item  = pd.read_csv('barang_dummy.csv',index_col=0)\n",
    "all_port_item  = pd.read_csv('barang_dummy_small.csv',index_col=0)\n",
    "# all_port_item  = pd.read_csv('barang_dummy_very_small.csv',index_col=0)\n",
    "all_port_item = all_port_item.applymap(lambda x: x.strip() if isinstance(x, str) else x)\n",
    "# all_port_item['Pelabuhan Asal'] = all_port_item['Pelabuhan']"
   ]
  },
  {
   "cell_type": "code",
   "execution_count": 40,
   "metadata": {},
   "outputs": [],
   "source": [
    "# from_list = all_port_item['Pelabuhan'].to_list()\n",
    "# for i in range(len(all_port_item)):\n",
    "#     all_port_item['Tujuan Pelabuhan'].iloc[0] = random.choice(from_list)\n"
   ]
  },
  {
   "cell_type": "markdown",
   "metadata": {},
   "source": [
    "### Creating Ports Object"
   ]
  },
  {
   "cell_type": "code",
   "execution_count": 41,
   "metadata": {},
   "outputs": [],
   "source": [
    "ports = create_ports_object(ports)"
   ]
  },
  {
   "cell_type": "markdown",
   "metadata": {},
   "source": [
    "### Create Ship Object"
   ]
  },
  {
   "cell_type": "code",
   "execution_count": 42,
   "metadata": {},
   "outputs": [],
   "source": [
    "time_skip = 6"
   ]
  },
  {
   "cell_type": "code",
   "execution_count": 43,
   "metadata": {},
   "outputs": [],
   "source": [
    "ship_df = create_ship_df()\n",
    "available_ship = ship_df['object'].to_list()\n"
   ]
  },
  {
   "cell_type": "code",
   "execution_count": 44,
   "metadata": {
    "scrolled": true
   },
   "outputs": [
    {
     "name": "stderr",
     "output_type": "stream",
     "text": [
      "C:\\ProgramData\\Anaconda3\\lib\\site-packages\\ipykernel_launcher.py:10: UserWarning: Boolean Series key will be reindexed to match DataFrame index.\n",
      "  # Remove the CWD from sys.path while we load stuff.\n",
      "C:\\ProgramData\\Anaconda3\\lib\\site-packages\\ipykernel_launcher.py:3: UserWarning: Boolean Series key will be reindexed to match DataFrame index.\n",
      "  This is separate from the ipykernel package so we can avoid doing imports until\n",
      "C:\\ProgramData\\Anaconda3\\lib\\site-packages\\ipykernel_launcher.py:4: UserWarning: Boolean Series key will be reindexed to match DataFrame index.\n",
      "  after removing the cwd from sys.path.\n",
      "C:\\ProgramData\\Anaconda3\\lib\\site-packages\\ipykernel_launcher.py:5: UserWarning: Boolean Series key will be reindexed to match DataFrame index.\n",
      "  \"\"\"\n"
     ]
    }
   ],
   "source": [
    "adjust_wave()\n",
    "redefine_route()\n",
    "shuffle_route(available_ship)\n",
    "initial_port_to_first(available_ship)"
   ]
  },
  {
   "cell_type": "code",
   "execution_count": 45,
   "metadata": {},
   "outputs": [],
   "source": [
    "# remaining_history,revenue_history,process_time = run_simulation()"
   ]
  },
  {
   "cell_type": "code",
   "execution_count": 46,
   "metadata": {
    "scrolled": true
   },
   "outputs": [],
   "source": [
    "# analyse_simulation(remaining_history,revenue_history)"
   ]
  },
  {
   "cell_type": "markdown",
   "metadata": {},
   "source": [
    "# GA CODE PART"
   ]
  },
  {
   "cell_type": "code",
   "execution_count": 47,
   "metadata": {},
   "outputs": [],
   "source": [
    "def simulate_fitness(available_ship,ports, print_progress = False, print_report = False):    \n",
    "    new_port_item = all_item(available_ship,ports)\n",
    "    remaining = item_left(new_port_item)\n",
    "    i=0\n",
    "    remaining_history = []\n",
    "    revenue_history = []\n",
    "    tic = time.clock()\n",
    "    while remaining>0:\n",
    "        i +=1\n",
    "        for ship in available_ship:\n",
    "            port_sequence(ship)\n",
    "#             print('{} revenue: {}'.format(ship.name,ship.revenue))\n",
    "        new_port_item = all_item(available_ship,ports)\n",
    "        remaining = item_left(new_port_item)\n",
    "        revenue = total_revenue(available_ship)\n",
    "        if print_progress == True:\n",
    "            print('************************************************')\n",
    "            print('revenue: {}'.format(revenue))\n",
    "            print('remaining: ' + str(remaining))\n",
    "            print('iteration: ' + str(i))\n",
    "            print('************************************************')\n",
    "        remaining_history.append(remaining)\n",
    "        revenue_history.append(revenue)\n",
    "        if i>=7000:\n",
    "            break\n",
    "    if print_report == True:\n",
    "        print('************************************************')\n",
    "        print('************************************************')\n",
    "        print('revenue: {}'.format(revenue))\n",
    "        print('remaining: ' + str(remaining))\n",
    "        print('iteration: ' + str(i))\n",
    "        print('************************************************')\n",
    "        print('************************************************')\n",
    "    toc = time.clock()\n",
    "    processtime = toc-tic\n",
    "    print('process time:{}'.format(processtime))\n",
    "    return revenue,remaining_history,revenue_history,processtime\n"
   ]
  },
  {
   "cell_type": "code",
   "execution_count": 48,
   "metadata": {},
   "outputs": [],
   "source": [
    "def initial_population(ship_names, n_pop):\n",
    "    pop = []\n",
    "    for i in range(n_pop):\n",
    "        individual = {}\n",
    "        for j in ship_names:\n",
    "            route = chooseship(j).route.copy()\n",
    "            random.shuffle(route)\n",
    "            init_index = route.index(chooseship(j).initial_port)\n",
    "            intial_port_to_front =route.pop(init_index)\n",
    "            route.insert(0, intial_port_to_front)\n",
    "            individual[j] = route\n",
    "        pop.append(individual)\n",
    "    return pop\n"
   ]
  },
  {
   "cell_type": "code",
   "execution_count": 49,
   "metadata": {},
   "outputs": [],
   "source": [
    "def change_ship_route(individual):\n",
    "    for i in list(individual.keys()):\n",
    "        chooseship(i).route = individual[i]"
   ]
  },
  {
   "cell_type": "code",
   "execution_count": 50,
   "metadata": {},
   "outputs": [],
   "source": [
    "def rankRoutes(population,available_ship,ports,print_progress_flag = False):\n",
    "    fitnessResults = {}\n",
    "    for i in range(0,len(population)):\n",
    "        refill_ports(ports)\n",
    "        print('*********POPULATION {}***********'.format(i))\n",
    "        available_ship = reset_revenue(available_ship)\n",
    "        change_ship_route(population[i])\n",
    "        fitnessResults[i],remaining_history,revenue_history,processtime = simulate_fitness(available_ship,ports, print_progress = print_progress_flag)\n",
    "        analyse_simulation(remaining_history,revenue_history)\n",
    "    return sorted(fitnessResults.items(), key = operator.itemgetter(1), reverse = True)"
   ]
  },
  {
   "cell_type": "code",
   "execution_count": 51,
   "metadata": {},
   "outputs": [],
   "source": [
    "def selection(popRanked, eliteSize):\n",
    "    selectionResults = []\n",
    "    df = pd.DataFrame(np.array(popRanked), columns=[\"Index\",\"Revenue\"])\n",
    "    df['cum_sum'] = df.Revenue.cumsum()\n",
    "    df['cum_perc'] = 100*df.cum_sum/df.Revenue.sum()\n",
    "    \n",
    "    for i in range(0, eliteSize):\n",
    "        selectionResults.append(popRanked[i][0])\n",
    "    for i in range(0, len(popRanked) - eliteSize):\n",
    "        pick = 100*random.random()\n",
    "        for i in range(0, len(popRanked)):\n",
    "            if pick <= df.iat[i,3]:\n",
    "                selectionResults.append(popRanked[i][0])\n",
    "                break\n",
    "    return selectionResults"
   ]
  },
  {
   "cell_type": "code",
   "execution_count": 52,
   "metadata": {},
   "outputs": [],
   "source": [
    "def matingPool(population, selectionResults):\n",
    "    matingpool = []\n",
    "    for i in range(0, len(selectionResults)):\n",
    "        index = selectionResults[i]\n",
    "        matingpool.append(population[index])\n",
    "    return matingpool"
   ]
  },
  {
   "cell_type": "code",
   "execution_count": 53,
   "metadata": {
    "scrolled": true
   },
   "outputs": [],
   "source": [
    "def breed(parent1,parent2):\n",
    "    childP1 = parent1.copy()\n",
    "    childP2 = parent2.copy()\n",
    "\n",
    "    key = list(childP1.keys())\n",
    "\n",
    "    flags = []\n",
    "    for i in range(len(parent1)):\n",
    "        flags.append(bool(random.getrandbits(1)))\n",
    "\n",
    "    for i in range(len(flags)):\n",
    "        if flags[i] == True:\n",
    "            childP1[key[i]],childP2[key[i]] = childP2[key[i]],childP1[key[i]]\n",
    "\n",
    "    child = random.choice([childP1,childP2])\n",
    "    return child\n"
   ]
  },
  {
   "cell_type": "code",
   "execution_count": 54,
   "metadata": {},
   "outputs": [],
   "source": [
    "def breedPopulation(matingpool, eliteSize):\n",
    "    children = []\n",
    "    length = len(matingpool) - eliteSize\n",
    "    pool = random.sample(matingpool, len(matingpool))\n",
    "\n",
    "    for i in range(0,eliteSize):\n",
    "        children.append(matingpool[i])\n",
    "    \n",
    "    for i in range(0, length):\n",
    "        child = breed(pool[i], pool[len(matingpool)-i-1])\n",
    "        children.append(child)\n",
    "    return children"
   ]
  },
  {
   "cell_type": "code",
   "execution_count": 55,
   "metadata": {},
   "outputs": [],
   "source": [
    "def mutate(individual, mutationRate):\n",
    "    for i in list(individual.keys()):\n",
    "        ind_ship = individual[i]\n",
    "        for swapped in range(1,len(ind_ship)):\n",
    "            if(random.random() < mutationRate):\n",
    "                swapWith = int(random.random() * (len(ind_ship)-1))+1\n",
    "\n",
    "                port1 = ind_ship[swapped]\n",
    "                port2 = ind_ship[swapWith]\n",
    "\n",
    "                ind_ship[swapped] = port2\n",
    "                ind_ship[swapWith] = port1\n",
    "                \n",
    "#         init_index = ind_ship.index(chooseship(i).initial_port)\n",
    "#         intial_port_to_front =ind_ship.pop(init_index)\n",
    "#         ind_ship.insert(0, intial_port_to_front)\n",
    "\n",
    "        \n",
    "\n",
    "    return individual"
   ]
  },
  {
   "cell_type": "code",
   "execution_count": 56,
   "metadata": {},
   "outputs": [],
   "source": [
    "def mutatePopulation(population, mutationRate):\n",
    "    mutatedPop = []\n",
    "    \n",
    "    for ind in range(0, len(population)):\n",
    "        mutatedInd = mutate(population[ind], mutationRate)\n",
    "        mutatedPop.append(mutatedInd)\n",
    "    return mutatedPop"
   ]
  },
  {
   "cell_type": "code",
   "execution_count": 57,
   "metadata": {},
   "outputs": [],
   "source": [
    "def nextGeneration(currentGen,popRanked,eliteSize, mutationRate,available_ship,ports,print_progress=False):\n",
    "#     popRanked = rankRoutes(currentGen,available_ship,ports,print_progress_flag = True)\n",
    "    selectionResults = selection(popRanked, eliteSize)\n",
    "    matingpool = matingPool(currentGen, selectionResults)\n",
    "    children = breedPopulation(matingpool, eliteSize)\n",
    "    nextGeneration = mutatePopulation(children, mutationRate)\n",
    "    popRanked = rankRoutes(nextGeneration,available_ship,ports,print_progress_flag = print_progress)\n",
    "    return nextGeneration, popRanked"
   ]
  },
  {
   "cell_type": "code",
   "execution_count": 61,
   "metadata": {},
   "outputs": [],
   "source": [
    "def geneticAlgorithmPlot(ship_names, popSize, eliteSize, mutationRate, generations):\n",
    "    pop = initial_population(ship_names, popSize)\n",
    "    \n",
    "    global ports\n",
    "    \n",
    "    available_ship = []\n",
    "    for i in ship_names:\n",
    "        available_ship.append(chooseship(i))\n",
    "    \n",
    "    initial_rank = rankRoutes(pop,available_ship,ports,print_progress_flag = False)\n",
    "    pop_rank = initial_rank\n",
    "\n",
    "    print(\"Initial Revenue: \" + str(initial_rank[0][1]))\n",
    "\n",
    "    progress = []\n",
    "    best_progress = []\n",
    "    best_route_overall = pop[initial_rank[0][0]]\n",
    "    best_gene_dist = initial_rank[0][1]\n",
    "    \n",
    "    progress.append(initial_rank[0][1])\n",
    "    best_progress.append(initial_rank[0][1])\n",
    "    \n",
    "    for i in range(0, generations):\n",
    "        print('********************************************************')\n",
    "        print('******************* GENERATION {} **********************'.format(i+1))\n",
    "        print('********************************************************')\n",
    "        \n",
    "        pop, pop_rank= nextGeneration(pop,pop_rank, eliteSize, mutationRate,available_ship,ports)\n",
    "#         pop_rank = rankRoutes(pop,available_ship,ports,print_progress_flag = False)\n",
    "\n",
    "        if (pop_rank[0][1]) > best_gene_dist : \n",
    "            best_gene_dist = (pop_rank[0][1])\n",
    "            best_route_overall = pop[pop_rank[0][0]]\n",
    "          \n",
    "        \n",
    "        best_progress.append(best_gene_dist)\n",
    "        progress.append(pop_rank[0][1])\n",
    "\n",
    "        \n",
    "        \n",
    "        print('iteration: ' + str(i+1) + ' current best revenue: ' + str(pop_rank[0][1]) + ' overall best revenue: ' + str(best_gene_dist)) \n",
    "        \n",
    "    print(\"Final distance: \" + str(pop_rank[0][1]))\n",
    "    \n",
    "    \n",
    "    bestRouteIndex = pop_rank[0][0]\n",
    "    bestRoute = pop[bestRouteIndex]\n",
    "    \n",
    "    \n",
    "    plt.plot(best_progress)\n",
    "    plt.plot(progress)\n",
    "    plt.ylabel('Revenue')\n",
    "    plt.xlabel('Generation')\n",
    "    plt.show()\n",
    "    \n",
    "    return bestRoute,best_route_overall"
   ]
  },
  {
   "cell_type": "code",
   "execution_count": 62,
   "metadata": {
    "scrolled": true
   },
   "outputs": [],
   "source": [
    "ship_names = ship_df['Ship_Name'].to_list()\n",
    "n_pop = 8\n",
    "elite_n = 3\n",
    "mutationRate = 0.03\n",
    "n_generation = 5\n",
    "pop = initial_population(ship_names, n_pop)\n",
    "# nextgen = nextGeneration(pop, elite_n, mutationRate,available_ship,ports)"
   ]
  },
  {
   "cell_type": "code",
   "execution_count": 63,
   "metadata": {},
   "outputs": [
    {
     "name": "stdout",
     "output_type": "stream",
     "text": [
      "*********POPULATION 0***********\n"
     ]
    },
    {
     "name": "stderr",
     "output_type": "stream",
     "text": [
      "C:\\ProgramData\\Anaconda3\\lib\\site-packages\\pandas\\core\\frame.py:6692: FutureWarning: Sorting because non-concatenation axis is not aligned. A future version\n",
      "of pandas will change to not sort by default.\n",
      "\n",
      "To accept the future behavior, pass 'sort=False'.\n",
      "\n",
      "To retain the current behavior and silence the warning, pass 'sort=True'.\n",
      "\n",
      "  sort=sort)\n",
      "C:\\ProgramData\\Anaconda3\\lib\\site-packages\\ipykernel_launcher.py:7: DeprecationWarning: time.clock has been deprecated in Python 3.3 and will be removed from Python 3.8: use time.perf_counter or time.process_time instead\n",
      "  import sys\n",
      "C:\\ProgramData\\Anaconda3\\lib\\site-packages\\ipykernel_launcher.py:10: UserWarning: Boolean Series key will be reindexed to match DataFrame index.\n",
      "  # Remove the CWD from sys.path while we load stuff.\n",
      "C:\\ProgramData\\Anaconda3\\lib\\site-packages\\ipykernel_launcher.py:34: DeprecationWarning: time.clock has been deprecated in Python 3.3 and will be removed from Python 3.8: use time.perf_counter or time.process_time instead\n"
     ]
    },
    {
     "name": "stdout",
     "output_type": "stream",
     "text": [
      "process time:372.157280008\n"
     ]
    },
    {
     "data": {
      "image/png": "[encoded data removed]",
      "text/plain": [
       "<Figure size 432x288 with 1 Axes>"
      ]
     },
     "metadata": {
      "needs_background": "light"
     },
     "output_type": "display_data"
    },
    {
     "data": {
      "image/png": "[encoded data removed]",
      "text/plain": [
       "<Figure size 432x288 with 1 Axes>"
      ]
     },
     "metadata": {
      "needs_background": "light"
     },
     "output_type": "display_data"
    },
    {
     "name": "stdout",
     "output_type": "stream",
     "text": [
      "Total Revenue: 46275945340.59172\n",
      "*********POPULATION 1***********\n",
      "process time:951.1093067869999\n"
     ]
    },
    {
     "data": {
      "image/png": "[encoded data removed]",
      "text/plain": [
       "<Figure size 432x288 with 1 Axes>"
      ]
     },
     "metadata": {
      "needs_background": "light"
     },
     "output_type": "display_data"
    },
    {
     "data": {
      "image/png": "[encoded data removed]",
      "text/plain": [
       "<Figure size 432x288 with 1 Axes>"
      ]
     },
     "metadata": {
      "needs_background": "light"
     },
     "output_type": "display_data"
    },
    {
     "name": "stdout",
     "output_type": "stream",
     "text": [
      "Total Revenue: 147323336506.80652\n",
      "*********POPULATION 2***********\n",
      "process time:952.561758526\n"
     ]
    },
    {
     "data": {
      "image/png": "[encoded data removed]",
      "text/plain": [
       "<Figure size 432x288 with 1 Axes>"
      ]
     },
     "metadata": {
      "needs_background": "light"
     },
     "output_type": "display_data"
    },
    {
     "data": {
      "image/png": "[encoded data removed]",
      "text/plain": [
       "<Figure size 432x288 with 1 Axes>"
      ]
     },
     "metadata": {
      "needs_background": "light"
     },
     "output_type": "display_data"
    },
    {
     "name": "stdout",
     "output_type": "stream",
     "text": [
      "Total Revenue: 147323336506.80652\n",
      "Initial Revenue: 147323336506.80652\n",
      "*********POPULATION 0***********\n",
      "process time:950.9926636149999\n"
     ]
    },
    {
     "data": {
      "image/png": "[encoded data removed]",
      "text/plain": [
       "<Figure size 432x288 with 1 Axes>"
      ]
     },
     "metadata": {
      "needs_background": "light"
     },
     "output_type": "display_data"
    },
    {
     "data": {
      "image/png": "[encoded data removed]",
      "text/plain": [
       "<Figure size 432x288 with 1 Axes>"
      ]
     },
     "metadata": {
      "needs_background": "light"
     },
     "output_type": "display_data"
    },
    {
     "name": "stdout",
     "output_type": "stream",
     "text": [
      "Total Revenue: 147323336506.80652\n",
      "*********POPULATION 1***********\n",
      "process time:970.9720158100004\n"
     ]
    },
    {
     "data": {
      "image/png": "[encoded data removed]",
      "text/plain": [
       "<Figure size 432x288 with 1 Axes>"
      ]
     },
     "metadata": {
      "needs_background": "light"
     },
     "output_type": "display_data"
    },
    {
     "data": {
      "image/png": "[encoded data removed]",
      "text/plain": [
       "<Figure size 432x288 with 1 Axes>"
      ]
     },
     "metadata": {
      "needs_background": "light"
     },
     "output_type": "display_data"
    },
    {
     "name": "stdout",
     "output_type": "stream",
     "text": [
      "Total Revenue: 147323336506.80652\n",
      "*********POPULATION 2***********\n",
      "process time:983.786541124\n"
     ]
    },
    {
     "data": {
      "image/png": "[encoded data removed]",
      "text/plain": [
       "<Figure size 432x288 with 1 Axes>"
      ]
     },
     "metadata": {
      "needs_background": "light"
     },
     "output_type": "display_data"
    },
    {
     "data": {
      "image/png": "[encoded data removed]",
      "text/plain": [
       "<Figure size 432x288 with 1 Axes>"
      ]
     },
     "metadata": {
      "needs_background": "light"
     },
     "output_type": "display_data"
    },
    {
     "name": "stdout",
     "output_type": "stream",
     "text": [
      "Total Revenue: 147323336506.80652\n",
      "********************************************************\n",
      "******************* GENERATION 0 **********************\n",
      "********************************************************\n",
      "iteration: 1 current best revenue: 147323336506.80652 overall best revenue: 147323336506.80652\n",
      "*********POPULATION 0***********\n",
      "process time:983.692016903\n"
     ]
    },
    {
     "data": {
      "image/png": "[encoded data removed]",
      "text/plain": [
       "<Figure size 432x288 with 1 Axes>"
      ]
     },
     "metadata": {
      "needs_background": "light"
     },
     "output_type": "display_data"
    },
    {
     "data": {
      "image/png": "[encoded data removed]",
      "text/plain": [
       "<Figure size 432x288 with 1 Axes>"
      ]
     },
     "metadata": {
      "needs_background": "light"
     },
     "output_type": "display_data"
    },
    {
     "name": "stdout",
     "output_type": "stream",
     "text": [
      "Total Revenue: 147323336506.80652\n",
      "*********POPULATION 1***********\n",
      "process time:960.4286761849999\n"
     ]
    },
    {
     "data": {
      "image/png": "[encoded data removed]",
      "text/plain": [
       "<Figure size 432x288 with 1 Axes>"
      ]
     },
     "metadata": {
      "needs_background": "light"
     },
     "output_type": "display_data"
    },
    {
     "data": {
      "image/png": "[encoded data removed]",
      "text/plain": [
       "<Figure size 432x288 with 1 Axes>"
      ]
     },
     "metadata": {
      "needs_background": "light"
     },
     "output_type": "display_data"
    },
    {
     "name": "stdout",
     "output_type": "stream",
     "text": [
      "Total Revenue: 147323336506.80652\n",
      "*********POPULATION 2***********\n",
      "process time:951.8177554629992\n"
     ]
    },
    {
     "data": {
      "image/png": "[encoded data removed]",
      "text/plain": [
       "<Figure size 432x288 with 1 Axes>"
      ]
     },
     "metadata": {
      "needs_background": "light"
     },
     "output_type": "display_data"
    },
    {
     "data": {
      "image/png": "[encoded data removed]",
      "text/plain": [
       "<Figure size 432x288 with 1 Axes>"
      ]
     },
     "metadata": {
      "needs_background": "light"
     },
     "output_type": "display_data"
    },
    {
     "name": "stdout",
     "output_type": "stream",
     "text": [
      "Total Revenue: 147323336506.80652\n",
      "********************************************************\n",
      "******************* GENERATION 1 **********************\n",
      "********************************************************\n",
      "iteration: 2 current best revenue: 147323336506.80652 overall best revenue: 147323336506.80652\n",
      "Final distance: 147323336506.80652\n"
     ]
    },
    {
     "data": {
      "image/png": "[encoded data removed]",
      "text/plain": [
       "<Figure size 432x288 with 1 Axes>"
      ]
     },
     "metadata": {
      "needs_background": "light"
     },
     "output_type": "display_data"
    },
    {
     "data": {
      "text/plain": [
       "({'TL1': [Utama:Tanjung Perak,\n",
       "   Pengumpul:Namlea,\n",
       "   Pengumpul:Moa,\n",
       "   Pengumpul:Namrole,\n",
       "   Pengumpul:Dobo,\n",
       "   Pengumpul:Namlea,\n",
       "   Pengumpan:Buano,\n",
       "   Pengumpan:Ambalau,\n",
       "   Pengumpan:Adault/Lingat,\n",
       "   Pengumpul:Kisar,\n",
       "   Pengumpan:Kelimuri,\n",
       "   Pengumpan:Marsela,\n",
       "   Pengumpul:Namrole,\n",
       "   Pengumpan:P.Geser,\n",
       "   Pengumpan:Amahai,\n",
       "   Pengumpan:Kelimoi,\n",
       "   Pengumpan:Teon,\n",
       "   Pengumpan:Arwala/Sutilirang,\n",
       "   Pengumpan:Tepa,\n",
       "   Pengumpul:Saumlaki,\n",
       "   Pengumpan:Tifu,\n",
       "   Pengumpan:Kobisadar,\n",
       "   Pengumpan:Bebar,\n",
       "   Pengumpul:Ambon,\n",
       "   Pengumpan:Kelang,\n",
       "   Pengumpan:Kroing,\n",
       "   Pengumpul:Kisar,\n",
       "   Pengumpan:Molu,\n",
       "   Pengumpan:Ilwaki,\n",
       "   Pengumpul:Moa],\n",
       "  'TL2': [Utama:Makassar,\n",
       "   Pengumpan:Tepa,\n",
       "   Pengumpan:Weduar,\n",
       "   Pengumpan:Ilwaki,\n",
       "   Pengumpul:Tual,\n",
       "   Pengumpul:Saumlaki,\n",
       "   Pengumpul:Namlea,\n",
       "   Pengumpan:Meror,\n",
       "   Pengumpan:Gorom,\n",
       "   Pengumpul:Namrole,\n",
       "   Pengumpan:Jerol,\n",
       "   Pengumpul:Moa,\n",
       "   Pengumpul:Kisar,\n",
       "   Pengumpan:Marsela,\n",
       "   Pengumpul:Dobo,\n",
       "   Pengumpan:Mun,\n",
       "   Pengumpan:Adault/Lingat,\n",
       "   Pengumpan:P.Manawoka,\n",
       "   Pengumpul:Banda Neira,\n",
       "   Pengumpan:Banda Eli,\n",
       "   Pengumpan:Tabarfane,\n",
       "   Pengumpan:Marlasi,\n",
       "   Pengumpan:Arwala/Sutilirang,\n",
       "   Pengumpul:Moa,\n",
       "   Pengumpan:Lelam Kojabi,\n",
       "   Pengumpan:Kaimer,\n",
       "   Pengumpan:Molu,\n",
       "   Pengumpan:Longgar,\n",
       "   Pengumpan:Elat,\n",
       "   Pengumpan:Teon,\n",
       "   Pengumpan:Mangur,\n",
       "   Pengumpan:Kroing,\n",
       "   Pengumpul:Kisar,\n",
       "   Pengumpan:Toyando,\n",
       "   Pengumpan:Bebar,\n",
       "   Pengumpan:Fadol],\n",
       "  'PR_Ambon': [Pengumpul:Ambon,\n",
       "   Pengumpan:Wamsisi,\n",
       "   Pengumpan:Leksula,\n",
       "   Pengumpan:Bula,\n",
       "   Pengumpan:Taniwel,\n",
       "   Pengumpan:Fogi,\n",
       "   Pengumpan:Manipa,\n",
       "   Pengumpan:Waemulang,\n",
       "   Pengumpan:Werinama,\n",
       "   Pengumpan:Wahai],\n",
       "  'PL1': [Utama:Tanjung Priok,\n",
       "   Pengumpul:Ambon,\n",
       "   Pengumpul:Tual,\n",
       "   Pengumpul:Saumlaki,\n",
       "   Pengumpul:Banda Neira,\n",
       "   Utama:Makassar,\n",
       "   Pengumpul:Dobo,\n",
       "   Utama:Tanjung Perak],\n",
       "  'PR_Tual': [Pengumpul:Tual,\n",
       "   Pengumpan:Holat,\n",
       "   Pengumpan:Kailakat,\n",
       "   Pengumpan:P.Kesui,\n",
       "   Pengumpan:Tam,\n",
       "   Pengumpan:P.Kur,\n",
       "   Pengumpan:P.Tior,\n",
       "   Pengumpan:Benjina,\n",
       "   Pengumpan:Kaisui,\n",
       "   Pengumpul:Dobo],\n",
       "  'PR_Saumlaki': [Pengumpul:Saumlaki,\n",
       "   Pengumpan:Eray,\n",
       "   Pengumpan:Romang,\n",
       "   Pengumpan:Serua,\n",
       "   Pengumpan:Lewa/Dai,\n",
       "   Pengumpan:Wunlah,\n",
       "   Pengumpan:P.Luang,\n",
       "   Pengumpan:Rumean,\n",
       "   Pengumpan:Lakor,\n",
       "   Pengumpan:Larat,\n",
       "   Pengumpan:Tutukembong,\n",
       "   Pengumpan:Lelang,\n",
       "   Pengumpan:Wulur,\n",
       "   Pengumpan:Nila,\n",
       "   Pengumpan:Sofyanin/Rumayaan,\n",
       "   Pengumpan:P.Leti,\n",
       "   Pengumpan:Kisar1,\n",
       "   Pengumpan:Dawera/Dawelor,\n",
       "   Pengumpan:Seira,\n",
       "   Pengumpan:Nurkat]},\n",
       " {'TL1': [Utama:Tanjung Perak,\n",
       "   Pengumpul:Namlea,\n",
       "   Pengumpul:Moa,\n",
       "   Pengumpul:Namrole,\n",
       "   Pengumpul:Dobo,\n",
       "   Pengumpul:Namlea,\n",
       "   Pengumpan:Buano,\n",
       "   Pengumpan:Ambalau,\n",
       "   Pengumpan:Adault/Lingat,\n",
       "   Pengumpul:Kisar,\n",
       "   Pengumpan:Kelimuri,\n",
       "   Pengumpan:Marsela,\n",
       "   Pengumpul:Namrole,\n",
       "   Pengumpan:P.Geser,\n",
       "   Pengumpan:Amahai,\n",
       "   Pengumpan:Kelimoi,\n",
       "   Pengumpan:Teon,\n",
       "   Pengumpan:Arwala/Sutilirang,\n",
       "   Pengumpan:Tepa,\n",
       "   Pengumpul:Saumlaki,\n",
       "   Pengumpan:Tifu,\n",
       "   Pengumpan:Kobisadar,\n",
       "   Pengumpan:Bebar,\n",
       "   Pengumpul:Ambon,\n",
       "   Pengumpan:Kelang,\n",
       "   Pengumpan:Kroing,\n",
       "   Pengumpul:Kisar,\n",
       "   Pengumpan:Molu,\n",
       "   Pengumpan:Ilwaki,\n",
       "   Pengumpul:Moa],\n",
       "  'TL2': [Utama:Makassar,\n",
       "   Pengumpan:Tepa,\n",
       "   Pengumpan:Weduar,\n",
       "   Pengumpan:Ilwaki,\n",
       "   Pengumpul:Tual,\n",
       "   Pengumpul:Saumlaki,\n",
       "   Pengumpul:Namlea,\n",
       "   Pengumpan:Meror,\n",
       "   Pengumpan:Gorom,\n",
       "   Pengumpul:Namrole,\n",
       "   Pengumpan:Jerol,\n",
       "   Pengumpul:Moa,\n",
       "   Pengumpul:Kisar,\n",
       "   Pengumpan:Marsela,\n",
       "   Pengumpul:Dobo,\n",
       "   Pengumpan:Mun,\n",
       "   Pengumpan:Adault/Lingat,\n",
       "   Pengumpan:P.Manawoka,\n",
       "   Pengumpul:Banda Neira,\n",
       "   Pengumpan:Banda Eli,\n",
       "   Pengumpan:Tabarfane,\n",
       "   Pengumpan:Marlasi,\n",
       "   Pengumpan:Arwala/Sutilirang,\n",
       "   Pengumpul:Moa,\n",
       "   Pengumpan:Lelam Kojabi,\n",
       "   Pengumpan:Kaimer,\n",
       "   Pengumpan:Molu,\n",
       "   Pengumpan:Longgar,\n",
       "   Pengumpan:Elat,\n",
       "   Pengumpan:Teon,\n",
       "   Pengumpan:Mangur,\n",
       "   Pengumpan:Kroing,\n",
       "   Pengumpul:Kisar,\n",
       "   Pengumpan:Toyando,\n",
       "   Pengumpan:Bebar,\n",
       "   Pengumpan:Fadol],\n",
       "  'PR_Ambon': [Pengumpul:Ambon,\n",
       "   Pengumpan:Wamsisi,\n",
       "   Pengumpan:Leksula,\n",
       "   Pengumpan:Bula,\n",
       "   Pengumpan:Taniwel,\n",
       "   Pengumpan:Fogi,\n",
       "   Pengumpan:Manipa,\n",
       "   Pengumpan:Waemulang,\n",
       "   Pengumpan:Werinama,\n",
       "   Pengumpan:Wahai],\n",
       "  'PL1': [Utama:Tanjung Priok,\n",
       "   Pengumpul:Ambon,\n",
       "   Pengumpul:Tual,\n",
       "   Pengumpul:Saumlaki,\n",
       "   Pengumpul:Banda Neira,\n",
       "   Utama:Makassar,\n",
       "   Pengumpul:Dobo,\n",
       "   Utama:Tanjung Perak],\n",
       "  'PR_Tual': [Pengumpul:Tual,\n",
       "   Pengumpan:Holat,\n",
       "   Pengumpan:Kailakat,\n",
       "   Pengumpan:P.Kesui,\n",
       "   Pengumpan:Tam,\n",
       "   Pengumpan:P.Kur,\n",
       "   Pengumpan:P.Tior,\n",
       "   Pengumpan:Benjina,\n",
       "   Pengumpan:Kaisui,\n",
       "   Pengumpul:Dobo],\n",
       "  'PR_Saumlaki': [Pengumpul:Saumlaki,\n",
       "   Pengumpan:Eray,\n",
       "   Pengumpan:Romang,\n",
       "   Pengumpan:Serua,\n",
       "   Pengumpan:Lewa/Dai,\n",
       "   Pengumpan:Wunlah,\n",
       "   Pengumpan:P.Luang,\n",
       "   Pengumpan:Rumean,\n",
       "   Pengumpan:Lakor,\n",
       "   Pengumpan:Larat,\n",
       "   Pengumpan:Tutukembong,\n",
       "   Pengumpan:Lelang,\n",
       "   Pengumpan:Wulur,\n",
       "   Pengumpan:Nila,\n",
       "   Pengumpan:Sofyanin/Rumayaan,\n",
       "   Pengumpan:P.Leti,\n",
       "   Pengumpan:Kisar1,\n",
       "   Pengumpan:Dawera/Dawelor,\n",
       "   Pengumpan:Seira,\n",
       "   Pengumpan:Nurkat]})"
      ]
     },
     "execution_count": 63,
     "metadata": {},
     "output_type": "execute_result"
    }
   ],
   "source": [
    "bestRoute,best_route_overall = geneticAlgorithmPlot(ship_names, n_pop, elite_n, mutationRate, n_generation)"
   ]
  },
  {
   "cell_type": "code",
   "execution_count": 68,
   "metadata": {},
   "outputs": [],
   "source": [
    "save_this = pop[0]"
   ]
  },
  {
   "cell_type": "code",
   "execution_count": 69,
   "metadata": {},
   "outputs": [],
   "source": [
    "np.save('best_route_overall.npy', best_route_overall)\n",
    "np.save('best_route_overall.npy', best_route_overall)"
   ]
  },
  {
   "cell_type": "code",
   "execution_count": 70,
   "metadata": {},
   "outputs": [
    {
     "data": {
      "text/plain": [
       "{'TL1': [Utama:Tanjung Perak,\n",
       "  Pengumpul:Moa,\n",
       "  Pengumpul:Namlea,\n",
       "  Pengumpan:Ambalau,\n",
       "  Pengumpan:Adault/Lingat,\n",
       "  Pengumpul:Dobo,\n",
       "  Pengumpul:Kisar,\n",
       "  Pengumpan:Kobisadar,\n",
       "  Pengumpan:Kelang,\n",
       "  Pengumpan:Kelimuri,\n",
       "  Pengumpan:Kelimoi,\n",
       "  Pengumpan:Tepa,\n",
       "  Pengumpul:Namrole,\n",
       "  Pengumpan:Teon,\n",
       "  Pengumpan:Bebar,\n",
       "  Pengumpul:Namlea,\n",
       "  Pengumpul:Moa,\n",
       "  Pengumpul:Ambon,\n",
       "  Pengumpan:Tifu,\n",
       "  Pengumpan:Buano,\n",
       "  Pengumpan:P.Geser,\n",
       "  Pengumpan:Ilwaki,\n",
       "  Pengumpan:Marsela,\n",
       "  Pengumpan:Molu,\n",
       "  Pengumpul:Namrole,\n",
       "  Pengumpul:Saumlaki,\n",
       "  Pengumpan:Kroing,\n",
       "  Pengumpan:Arwala/Sutilirang,\n",
       "  Pengumpul:Kisar,\n",
       "  Pengumpan:Amahai],\n",
       " 'TL2': [Utama:Makassar,\n",
       "  Pengumpan:Meror,\n",
       "  Pengumpan:Ilwaki,\n",
       "  Pengumpan:Arwala/Sutilirang,\n",
       "  Pengumpan:Adault/Lingat,\n",
       "  Pengumpan:P.Manawoka,\n",
       "  Pengumpan:Tabarfane,\n",
       "  Pengumpul:Moa,\n",
       "  Pengumpan:Gorom,\n",
       "  Pengumpan:Longgar,\n",
       "  Pengumpan:Tepa,\n",
       "  Pengumpul:Kisar,\n",
       "  Pengumpan:Marsela,\n",
       "  Pengumpan:Jerol,\n",
       "  Pengumpul:Namrole,\n",
       "  Pengumpan:Teon,\n",
       "  Pengumpan:Mun,\n",
       "  Pengumpan:Toyando,\n",
       "  Pengumpan:Elat,\n",
       "  Pengumpan:Mangur,\n",
       "  Pengumpan:Bebar,\n",
       "  Pengumpan:Banda Eli,\n",
       "  Pengumpan:Kroing,\n",
       "  Pengumpul:Saumlaki,\n",
       "  Pengumpul:Dobo,\n",
       "  Pengumpan:Kaimer,\n",
       "  Pengumpan:Weduar,\n",
       "  Pengumpan:Lelam Kojabi,\n",
       "  Pengumpul:Tual,\n",
       "  Pengumpan:Fadol,\n",
       "  Pengumpul:Namlea,\n",
       "  Pengumpul:Kisar,\n",
       "  Pengumpul:Moa,\n",
       "  Pengumpul:Banda Neira,\n",
       "  Pengumpan:Molu,\n",
       "  Pengumpan:Marlasi],\n",
       " 'PR_Ambon': [Pengumpul:Ambon,\n",
       "  Pengumpan:Werinama,\n",
       "  Pengumpan:Waemulang,\n",
       "  Pengumpan:Leksula,\n",
       "  Pengumpan:Bula,\n",
       "  Pengumpan:Wamsisi,\n",
       "  Pengumpan:Wahai,\n",
       "  Pengumpan:Fogi,\n",
       "  Pengumpan:Taniwel,\n",
       "  Pengumpan:Manipa],\n",
       " 'PL1': [Utama:Tanjung Priok,\n",
       "  Pengumpul:Tual,\n",
       "  Utama:Tanjung Perak,\n",
       "  Pengumpul:Banda Neira,\n",
       "  Pengumpul:Dobo,\n",
       "  Pengumpul:Ambon,\n",
       "  Pengumpul:Saumlaki,\n",
       "  Utama:Makassar],\n",
       " 'PR_Tual': [Pengumpul:Tual,\n",
       "  Pengumpan:Holat,\n",
       "  Pengumpan:Kailakat,\n",
       "  Pengumpan:Benjina,\n",
       "  Pengumpan:Kaisui,\n",
       "  Pengumpan:P.Tior,\n",
       "  Pengumpan:Tam,\n",
       "  Pengumpan:P.Kesui,\n",
       "  Pengumpan:P.Kur,\n",
       "  Pengumpul:Dobo],\n",
       " 'PR_Saumlaki': [Pengumpul:Saumlaki,\n",
       "  Pengumpan:Eray,\n",
       "  Pengumpan:Wunlah,\n",
       "  Pengumpan:Sofyanin/Rumayaan,\n",
       "  Pengumpan:Serua,\n",
       "  Pengumpan:Nila,\n",
       "  Pengumpan:Lelang,\n",
       "  Pengumpan:Kisar1,\n",
       "  Pengumpan:Lakor,\n",
       "  Pengumpan:Nurkat,\n",
       "  Pengumpan:P.Leti,\n",
       "  Pengumpan:Tutukembong,\n",
       "  Pengumpan:Seira,\n",
       "  Pengumpan:Wulur,\n",
       "  Pengumpan:Lewa/Dai,\n",
       "  Pengumpan:Larat,\n",
       "  Pengumpan:Dawera/Dawelor,\n",
       "  Pengumpan:P.Luang,\n",
       "  Pengumpan:Rumean,\n",
       "  Pengumpan:Romang]}"
      ]
     },
     "execution_count": 70,
     "metadata": {},
     "output_type": "execute_result"
    }
   ],
   "source": [
    "read_dictionary = np.load('best_routes.npy',allow_pickle='TRUE').item()\n",
    "read_dictionary"
   ]
  },
  {
   "cell_type": "code",
   "execution_count": null,
   "metadata": {},
   "outputs": [],
   "source": []
  }
 ],
 "metadata": {
  "colab": {
   "collapsed_sections": [],
   "name": "GA_jaringan_kapal_revisi.ipynb",
   "provenance": []
  },
  "kernelspec": {
   "display_name": "Python 3",
   "language": "python",
   "name": "python3"
  },
  "language_info": {
   "codemirror_mode": {
    "name": "ipython",
    "version": 3
   },
   "file_extension": ".py",
   "mimetype": "text/x-python",
   "name": "python",
   "nbconvert_exporter": "python",
   "pygments_lexer": "ipython3",
   "version": "3.7.3"
  }
 },
 "nbformat": 4,
 "nbformat_minor": 1
}
